{
 "cells": [
  {
   "cell_type": "markdown",
   "id": "bf1ab263",
   "metadata": {},
   "source": [
    "# Notes - Python Language\n",
    "\n",
    "Content \n",
    "- If...else statements\n",
    "- loop"
   ]
  },
  {
   "cell_type": "markdown",
   "id": "8dbed9de",
   "metadata": {},
   "source": [
    "## If ... Else\n",
    "\n",
    "- W3school - Python If ... Else\n",
    "  - https://www.w3schools.com/python/python_conditions.asp\n",
    "\n",
    "- Hands-on Python Tutorial, https://anh.cs.luc.edu/handsonPythonTutorial/ifstatements.html\n",
    "  - A comprehensive tutorial"
   ]
  },
  {
   "cell_type": "markdown",
   "id": "9b5d1ff9",
   "metadata": {},
   "source": [
    "### If statements for numeric values\n",
    "\n",
    "Equals: a == b\n",
    "\n",
    "Not Equals: a != b\n",
    "\n",
    "Less than: a < b\n",
    "\n",
    "Less than or equal to: a <= b\n",
    "\n",
    "Greater than: a > b\n",
    "\n",
    "Greater than or equal to: a >= b"
   ]
  },
  {
   "cell_type": "code",
   "execution_count": 1,
   "id": "4e2072d5",
   "metadata": {},
   "outputs": [
    {
     "name": "stdout",
     "output_type": "stream",
     "text": [
      "a > b\n",
      "a > b\n",
      "a > b\n",
      "a > b and b > c\n"
     ]
    }
   ],
   "source": [
    "#--- if, elif, else\n",
    "a = 4\n",
    "b = 2\n",
    "c = 1\n",
    "\n",
    "if a > b:\n",
    "    print(\"a > b\")\n",
    "elif a == b:\n",
    "    print(\"a = b\")\n",
    "else:\n",
    "    print(\"NA\")\n",
    "    \n",
    "#--- in one line\n",
    "if a > b: print(\"a > b\")\n",
    "print(\"a > b\") if a > b else print(\"nono\")\n",
    "\n",
    "#--- and, or\n",
    "if a > b and b > c:\n",
    "    print(\"a > b and b > c\")\n",
    "else:\n",
    "    print(\"ker\")"
   ]
  },
  {
   "cell_type": "markdown",
   "id": "99e73705",
   "metadata": {},
   "source": [
    "### If statements for string\n",
    "\n",
    "- DelfStack, https://www.delftstack.com/howto/python/if-with-string-in-python/\n",
    "  - Some basic "
   ]
  },
  {
   "cell_type": "code",
   "execution_count": 2,
   "id": "ed3d3e8f",
   "metadata": {},
   "outputs": [
    {
     "name": "stdout",
     "output_type": "stream",
     "text": [
      "b = c\n",
      "a is NOT in the lists\n",
      "Yes, 'fre' is present.\n",
      "No, 'expensive' is NOT present.\n"
     ]
    }
   ],
   "source": [
    "#--- compare two strings\n",
    "b = \"b\"\n",
    "c = \"b\"\n",
    "\n",
    "if (b == c): print(\"b = c\")\n",
    "\n",
    "#--- check whether a string is in a list\n",
    "a = \"c\"\n",
    "\n",
    "if a in ['y','b']:\n",
    "    print(\"a is in the list\")\n",
    "\n",
    "elif a not in ['c','d']:\n",
    "    print(\"a is not the list 2\")\n",
    "\n",
    "else:\n",
    "    print(\"a is NOT in the lists\")\n",
    "\n",
    "#--- check if a certain phrase or character is present in a strin\n",
    "txt = \"The best things in life are free!\"\n",
    "if \"fre\" in txt:\n",
    "  print(\"Yes, 'fre' is present.\")\n",
    "\n",
    "if \"expensive\" not in txt:\n",
    "  print(\"No, 'expensive' is NOT present.\")\n"
   ]
  },
  {
   "cell_type": "markdown",
   "id": "d9de69d9",
   "metadata": {},
   "source": [
    "## Loop\n",
    "\n",
    "With the **break** statement we can stop the loop before it has looped through all the items\n",
    "\n",
    "With the **continue** statement we can stop the current iteration of the loop, and continue with the next:\n",
    "\n",
    "\n",
    "**References**\n",
    "\n",
    "- W3schools\n",
    "  - While Loops, https://www.w3schools.com/python/python_while_loops.asp\n",
    "  - For Loops, https://www.w3schools.com/python/python_for_loops.asp"
   ]
  },
  {
   "cell_type": "markdown",
   "id": "80fc9d66",
   "metadata": {},
   "source": [
    "### For Loops with string or values\n",
    "\n",
    "- W3schools\n",
    "  - For Loops, https://www.w3schools.com/python/python_for_loops.asp\n"
   ]
  },
  {
   "cell_type": "code",
   "execution_count": 3,
   "id": "4f899258",
   "metadata": {},
   "outputs": [
    {
     "name": "stdout",
     "output_type": "stream",
     "text": [
      "aa\n",
      "yyy\n",
      "bb\n",
      "---------------\n",
      "a\n",
      "b\n",
      "c\n",
      "d\n",
      "e\n",
      "f\n",
      "g\n",
      "YAYA, loop\n",
      "---------------\n",
      "x1 y1\n",
      "x1 y2\n",
      "@@@@@@@@@@@@@@\n",
      "x2 y1\n",
      "x2 y2\n",
      "@@@@@@@@@@@@@@\n",
      "x3 y1\n",
      "x3 y2\n",
      "@@@@@@@@@@@@@@\n"
     ]
    }
   ],
   "source": [
    "#--- loop over a string list\n",
    "ss = [\"aa\", \"bb\", \"cc\"]\n",
    "\n",
    "for x in ss:\n",
    "    print(x)\n",
    "    if x == \"bb\":\n",
    "        break\n",
    "    elif x != \"aa\":\n",
    "        continue\n",
    "    print(\"yyy\")\n",
    "    \n",
    "#--- loop through a string\n",
    "print(\"---------------\")\n",
    "for x in \"abcdefg\":\n",
    "    print(x)\n",
    "else:\n",
    "    print(\"YAYA, loop\")\n",
    "    \n",
    "#--- nested loops\n",
    "print(\"---------------\")\n",
    "for x in ['x1','x2','x3']:\n",
    "    for y in ['y1','y2']:\n",
    "        print(x,y)\n",
    "    print(\"@@@@@@@@@@@@@@\")\n"
   ]
  },
  {
   "cell_type": "code",
   "execution_count": 4,
   "id": "a227fb40",
   "metadata": {},
   "outputs": [
    {
     "name": "stdout",
     "output_type": "stream",
     "text": [
      "0\n",
      "1\n",
      "2\n",
      "3\n",
      "4\n",
      "5\n",
      "------------------\n",
      "1\n",
      "2\n",
      "3\n",
      "------------------\n",
      "0\n",
      "2\n",
      "4\n",
      "6\n",
      "8\n",
      "finish!\n"
     ]
    }
   ],
   "source": [
    "#--- loop over numeric values\n",
    "for i in range(6):   # i=0,5\n",
    "    print(i)\n",
    "    \n",
    "print(\"------------------\")\n",
    "for i in range(1,4): # i=1,3\n",
    "    print(i)\n",
    "\n",
    "print(\"------------------\")\n",
    "for i in range(0,10,2): # i=0,2,4,6,8\n",
    "    print(i)\n",
    "else:\n",
    "    print(\"finish!\")"
   ]
  },
  {
   "cell_type": "markdown",
   "id": "04d773eb",
   "metadata": {},
   "source": [
    "### While Loops\n",
    "- W3schools\n",
    "  - While Loops, https://www.w3schools.com/python/python_while_loops.asp\n"
   ]
  },
  {
   "cell_type": "code",
   "execution_count": null,
   "id": "85979533",
   "metadata": {},
   "outputs": [],
   "source": []
  }
 ],
 "metadata": {
  "kernelspec": {
   "display_name": "Python 3",
   "language": "python",
   "name": "python3"
  },
  "language_info": {
   "codemirror_mode": {
    "name": "ipython",
    "version": 3
   },
   "file_extension": ".py",
   "mimetype": "text/x-python",
   "name": "python",
   "nbconvert_exporter": "python",
   "pygments_lexer": "ipython3",
   "version": "3.8.8"
  }
 },
 "nbformat": 4,
 "nbformat_minor": 5
}
