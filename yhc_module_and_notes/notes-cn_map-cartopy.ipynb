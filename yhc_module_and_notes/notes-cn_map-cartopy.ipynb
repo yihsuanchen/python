{
 "cells": [
  {
   "cell_type": "markdown",
   "id": "323157ca",
   "metadata": {},
   "source": [
    "# Program - \n",
    "\n",
    "**Purpose**\n",
    "\n",
    "\n",
    "**Content**\n",
    "- read data\n",
    "- plot XY profiles\n",
    "\n",
    "**Author:** Yi-Hsuan Chen (yihsuan@umich.edu)\n",
    "\n",
    "**Date:** \n",
    "\n",
    "**Reference program:**\n",
    "\n"
   ]
  },
  {
   "cell_type": "code",
   "execution_count": 1,
   "id": "2ebadecb",
   "metadata": {},
   "outputs": [
    {
     "data": {
      "text/plain": [
       "<xarray.core.options.set_options at 0x7f9fc071ce80>"
      ]
     },
     "execution_count": 1,
     "metadata": {},
     "output_type": "execute_result"
    }
   ],
   "source": [
    "import cartopy.crs as ccrs\n",
    "import cartopy.feature as cfeature\n",
    "import matplotlib.pyplot as plt\n",
    "import numpy as np\n",
    "import xarray as xr\n",
    "import io, os, sys, types\n",
    "\n",
    "import yhc_module as yhc\n",
    "\n",
    "xr.set_options(keep_attrs=True)  # keep attributes after xarray operation"
   ]
  },
  {
   "cell_type": "markdown",
   "id": "550c787d-23eb-44e3-9107-7af40be1e6f0",
   "metadata": {},
   "source": [
    "## Read data"
   ]
  },
  {
   "cell_type": "markdown",
   "id": "edddc513-9674-4ba2-8be6-6a5106b9759e",
   "metadata": {},
   "source": [
    "### TaiESM1 data"
   ]
  },
  {
   "cell_type": "code",
   "execution_count": 6,
   "id": "f3cd35c9",
   "metadata": {},
   "outputs": [],
   "source": [
    "#--- datapath\n",
    "datapath_TaiESM1 = \"/Users/yi-hsuanchen/Downloads/yihsuan/research/data/TaiESM1/data/CMIP6/TaiESM1/amip-hist/atmos/mon/r1i1p1f1/\"\n",
    "fnames_rsut = [\n",
    "    \"rsut_Amon_TaiESM1_amip-hist_r1i1p1f1_gn_197901-201012.nc\",\n",
    "    \"rsut_Amon_TaiESM1_amip-hist_r1i1p1f1_gn_201101-201412.nc\",\n",
    "]\n",
    "fnames_rsut = [datapath_TaiESM1+\"/\"+file1 for file1 in fnames_rsut]\n",
    "\n",
    "da_rsut = xr.open_mfdataset(fnames_rsut)\n"
   ]
  },
  {
   "cell_type": "markdown",
   "id": "95e15d95-b847-4a4b-ba77-9ec46250f33b",
   "metadata": {},
   "source": [
    "### CERES data"
   ]
  },
  {
   "cell_type": "code",
   "execution_count": 10,
   "id": "50868f6f-ec4e-4a6f-948d-dd0cdb1c131b",
   "metadata": {},
   "outputs": [],
   "source": [
    "datapath_ceres = \"/Users/yi-hsuanchen/Downloads/yihsuan/research/data/CERES/\"\n",
    "fname_ceres = datapath_ceres + \"/\" + \"CERES_EBAF-TOA_Ed4.2_Subset_200101-201412.nc\"\n",
    "\n",
    "da_ceres = xr.open_dataset(fname_ceres)"
   ]
  },
  {
   "cell_type": "code",
   "execution_count": null,
   "id": "d02d0e42-de45-4259-a7ad-62b8fe173472",
   "metadata": {},
   "outputs": [],
   "source": []
  },
  {
   "cell_type": "markdown",
   "id": "483a757e",
   "metadata": {},
   "source": [
    "## Data processing"
   ]
  },
  {
   "cell_type": "code",
   "execution_count": null,
   "id": "6b2838c1",
   "metadata": {},
   "outputs": [],
   "source": []
  },
  {
   "cell_type": "markdown",
   "id": "87f9d396",
   "metadata": {},
   "source": [
    "## Plot - "
   ]
  },
  {
   "cell_type": "code",
   "execution_count": null,
   "id": "c9dfcf75",
   "metadata": {},
   "outputs": [],
   "source": []
  },
  {
   "cell_type": "code",
   "execution_count": null,
   "id": "af714b0d",
   "metadata": {},
   "outputs": [],
   "source": []
  },
  {
   "cell_type": "code",
   "execution_count": null,
   "id": "054503e8",
   "metadata": {},
   "outputs": [],
   "source": [
    "#yhc.lib(\"fdef\")   # check out yhc library"
   ]
  },
  {
   "cell_type": "code",
   "execution_count": null,
   "id": "265eb1b8",
   "metadata": {},
   "outputs": [],
   "source": []
  }
 ],
 "metadata": {
  "kernelspec": {
   "display_name": "Python 3 (ipykernel)",
   "language": "python",
   "name": "python3"
  },
  "language_info": {
   "codemirror_mode": {
    "name": "ipython",
    "version": 3
   },
   "file_extension": ".py",
   "mimetype": "text/x-python",
   "name": "python",
   "nbconvert_exporter": "python",
   "pygments_lexer": "ipython3",
   "version": "3.10.9"
  }
 },
 "nbformat": 4,
 "nbformat_minor": 5
}
