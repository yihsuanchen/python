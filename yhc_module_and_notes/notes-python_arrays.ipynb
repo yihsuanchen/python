{
 "cells": [
  {
   "cell_type": "markdown",
   "id": "a7933cba",
   "metadata": {},
   "source": [
    "# Notes - Python arrays\n",
    "\n",
    "## Numeric operation on array\n",
    "\n",
    "Even though all elements are numeric values in a array, Python doesn't think it is a numeric array. As a result, I cannot do numerical operation in this array. I have to convert the array to a numpy array, so I can do numeric operation.\n",
    "\n",
    "- **Xarray array computation**\n",
    " - https://xarray.pydata.org/en/v2022.03.0/user-guide/computation.html\n",
    "\n",
    "- **Numpy array nerical operations**\n",
    " - https://scipy-lectures.org/intro/numpy/operations.html\n",
    " - https://scipy-lectures.org/intro/numpy/operations.html"
   ]
  },
  {
   "cell_type": "code",
   "execution_count": null,
   "id": "5b74c48c",
   "metadata": {},
   "outputs": [],
   "source": []
  }
 ],
 "metadata": {
  "kernelspec": {
   "display_name": "Python 3",
   "language": "python",
   "name": "python3"
  },
  "language_info": {
   "codemirror_mode": {
    "name": "ipython",
    "version": 3
   },
   "file_extension": ".py",
   "mimetype": "text/x-python",
   "name": "python",
   "nbconvert_exporter": "python",
   "pygments_lexer": "ipython3",
   "version": "3.8.8"
  }
 },
 "nbformat": 4,
 "nbformat_minor": 5
}
