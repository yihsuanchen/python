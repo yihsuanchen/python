{
 "cells": [
  {
   "cell_type": "markdown",
   "id": "a7933cba",
   "metadata": {},
   "source": [
    "# Notes - Python arrays\n",
    "\n",
    "## Numeric operation on array\n",
    "\n",
    "Even though all elements are numeric values in a array, Python doesn't think it is a numeric array. As a result, I cannot do numerical operation in this array. I have to convert the array to a numpy array, so I can do numeric operation.\n",
    "\n",
    "- **Xarray array computation**\n",
    " - https://xarray.pydata.org/en/v2022.03.0/user-guide/computation.html\n",
    "\n",
    "- **Numpy array nerical operations**\n",
    " - Unidata - Numpy Basics, https://unidata.github.io/python-training/workshop/NumPy/numpy-basics/\n",
    " - Unidata - Numpy Intermidiate, https://unidata.github.io/python-training/workshop/NumPy/intermediate-numpy/\n",
    " - Unidata - Broadcasting and Vectorization, https://unidata.github.io/python-training/workshop/NumPy/numpy-broadcasting-and-vectorization/\n",
    " - Numpy basics - https://numpy.org/devdocs/user/absolute_beginners.html\n",
    " - Scipy - https://scipy-lectures.org/intro/numpy/operations.html\n",
    " \n",
    "Recommended learning order: (1) Unidata Numpy Basics (2) Numpy basics\n"
   ]
  },
  {
   "cell_type": "markdown",
   "id": "b593aab2",
   "metadata": {},
   "source": [
    "## Learning objective\n",
    "- Create an array with any dimention. Set attributes and coordinates to this array.\n",
    "- Do numerical operations on this array, and with other arrays.\n",
    "\n",
    "- broadcasting\n",
    "\n"
   ]
  },
  {
   "cell_type": "markdown",
   "id": "c5570149",
   "metadata": {},
   "source": [
    "## Numpy\n",
    "\n",
    "In NumPy, dimensions are called **axes**. This means that if you have a 2D array that looks like this:\n",
    "\n",
    "[0., 0., 0.] \\\n",
    "[1., 1., 1.]\n",
    "\n",
    "Your array has 2 axes. The first axis has a length of 2 and the second axis has a length of 3, i.e. matrix(2,3)"
   ]
  },
  {
   "cell_type": "code",
   "execution_count": 2,
   "id": "98b6f3a9",
   "metadata": {},
   "outputs": [],
   "source": [
    "import numpy as np"
   ]
  },
  {
   "cell_type": "markdown",
   "id": "dbc1040b",
   "metadata": {},
   "source": [
    "## Create an array and check out its characteristics "
   ]
  },
  {
   "cell_type": "code",
   "execution_count": 3,
   "id": "02a9e29a",
   "metadata": {},
   "outputs": [
    {
     "name": "stdout",
     "output_type": "stream",
     "text": [
      "2\n",
      "(2, 3)\n",
      "int64\n",
      "(5, 3)\n"
     ]
    }
   ],
   "source": [
    "#--- create arrays from a list\n",
    "\n",
    "a_1d = np.array([1, 2, 3])          # a 1-D array\n",
    "a_2d = np.array([[1,2,3],[4,5,6]])  # a (2,3) array\n",
    "\n",
    "#--- create arrays from functions\n",
    "#      arange(start, stop, interval) creates a range of values in the interval [start,stop) with step spacing.\n",
    "#      linspace(start, stop, num) creates a range of num evenly spaced values over the range [start,stop].\n",
    "b_1d_01 = np.arange(3)         # [0 1 2]\n",
    "b_1d_02 = np.arange(1,4)       # [0 1 2 3]\n",
    "b_1d_03 = np.arange(1,6,2)     # [1 3 5]\n",
    "\n",
    "b_1d_11 = np.linspace(1,5,5)   # [1 2 3 4 5], 5 elements\n",
    "b_1d_12 = np.linspace(1,2,3)   # [1 1.5 2],   3 elements\n",
    "\n",
    "#--- create n-dimentional arrays\n",
    "row=5  \n",
    "col=3\n",
    "c_nd_01 = np.zeros(row*col).reshape(row,col)\n",
    "c_nd_02 = np.ones(row*col).reshape(row,col)\n",
    "c_nd_02 = np.empty(row*col).reshape(row,col)\n",
    "\n",
    "\n",
    "#--- check out array properties\n",
    "print(a_2d.ndim)    # See how many dimensions the array has\n",
    "print(a_2d.shape)   # Print out the shape attribute\n",
    "print(a_2d.dtype)   # Print out the data type attribute\n",
    "\n",
    "print(c_nd_01.shape)"
   ]
  },
  {
   "cell_type": "markdown",
   "id": "6cbeff57",
   "metadata": {},
   "source": [
    "## Adding and sorting elements\n",
    "https://numpy.org/devdocs/user/absolute_beginners.html#adding-removing-and-sorting-elements"
   ]
  },
  {
   "cell_type": "code",
   "execution_count": 4,
   "id": "a7d6f741",
   "metadata": {},
   "outputs": [
    {
     "data": {
      "text/plain": [
       "array([1, 3, 5, 4, 2, 6, 9, 8])"
      ]
     },
     "execution_count": 4,
     "metadata": {},
     "output_type": "execute_result"
    }
   ],
   "source": [
    "a = np.array([1, 3, 5, 4])\n",
    "b = np.array([2, 6, 9, 8])\n",
    "\n",
    "#--- sort array\n",
    "np.sort(a)\n",
    "\n",
    "#--- concatenate arrays\n",
    "np.concatenate((a,b),axis=0)"
   ]
  },
  {
   "cell_type": "markdown",
   "id": "88fee963",
   "metadata": {},
   "source": [
    "## Convert a 1D array into a 2D array (how to add a new axis to an array)\n",
    "https://numpy.org/devdocs/user/absolute_beginners.html#how-to-convert-a-1d-array-into-a-2d-array-how-to-add-a-new-axis-to-an-array"
   ]
  },
  {
   "cell_type": "code",
   "execution_count": 5,
   "id": "78959ea2",
   "metadata": {},
   "outputs": [
    {
     "name": "stdout",
     "output_type": "stream",
     "text": [
      "(6,)\n",
      "(4, 1)\n",
      "(1, 1, 4)\n",
      "--------------\n",
      "(1, 4)\n",
      "(4, 1)\n"
     ]
    }
   ],
   "source": [
    "#--- use nexaxis \n",
    "a1 = np.array([1, 2, 3, 4, 5, 6])\n",
    "a2 = a[:,np.newaxis]\n",
    "a3 = a[np.newaxis,np.newaxis,:]\n",
    "\n",
    "print(a1.shape)\n",
    "print(a2.shape)\n",
    "print(a3.shape)\n",
    "\n",
    "#--- use expand_dims\n",
    "b1 = np.expand_dims(a, axis=0)\n",
    "b2 = np.expand_dims(a, axis=1)\n",
    "print('--------------')\n",
    "print(b1.shape)\n",
    "print(b2.shape)"
   ]
  },
  {
   "cell_type": "markdown",
   "id": "4d50a34a",
   "metadata": {},
   "source": [
    "## Broadcasting\n",
    "\n",
    "- Unidata - Broadcasting and Vectorization, https://unidata.github.io/python-training/workshop/NumPy/numpy-broadcasting-and-vectorization/\n",
    "- Numpy - https://numpy.org/devdocs/user/basics.broadcasting.html#basics-broadcasting\n",
    "- Numpy - https://numpy.org/devdocs/user/absolute_beginners.html#broadcasting\n",
    "\n",
    "The term broadcasting describes how NumPy treats arrays with different shapes during arithmetic operations. Subject to certain constraints, the smaller array is “broadcast” across the larger array so that they have compatible shapes. Broadcasting provides a means of vectorizing array operations so that looping occurs in C instead of Python."
   ]
  },
  {
   "cell_type": "code",
   "execution_count": 44,
   "id": "005465b2",
   "metadata": {},
   "outputs": [],
   "source": [
    "### pairwise addition of two arrays with different dimensions ###\n",
    "\n",
    "#--- example arrays\n",
    "a = np.array([1.,2.,3.,4.,5])\n",
    "b = np.array([10., 20., 30., 40.])"
   ]
  },
  {
   "cell_type": "markdown",
   "id": "068485ec",
   "metadata": {},
   "source": [
    "Use loops to add these two arrays"
   ]
  },
  {
   "cell_type": "code",
   "execution_count": 47,
   "id": "c29e6481",
   "metadata": {},
   "outputs": [
    {
     "data": {
      "text/plain": [
       "array([[11., 21., 31., 41.],\n",
       "       [12., 22., 32., 42.],\n",
       "       [13., 23., 33., 43.],\n",
       "       [14., 24., 34., 44.],\n",
       "       [15., 25., 35., 45.]])"
      ]
     },
     "execution_count": 47,
     "metadata": {},
     "output_type": "execute_result"
    }
   ],
   "source": [
    "#--- a.shape is a tuple. To convert it to an integer, use a.shape[0]\n",
    "a_plus_b = np.empty((a.shape[0],b.shape[0]), dtype=a.dtype)\n",
    "\n",
    "#--- enumerate returns [index, value]\n",
    "for col, valb in enumerate(b):\n",
    "  for row, vala in enumerate(a):\n",
    "    a_plus_b[row, col] = vala + valb\n",
    "\n",
    "a_plus_b"
   ]
  },
  {
   "cell_type": "markdown",
   "id": "40850dbb",
   "metadata": {},
   "source": [
    "Use newaxis"
   ]
  },
  {
   "cell_type": "code",
   "execution_count": 54,
   "id": "b75d4662",
   "metadata": {},
   "outputs": [
    {
     "name": "stdout",
     "output_type": "stream",
     "text": [
      "[[11. 12. 13. 14. 15.]\n",
      " [21. 22. 23. 24. 25.]\n",
      " [31. 32. 33. 34. 35.]\n",
      " [41. 42. 43. 44. 45.]]\n",
      "[[11. 21. 31. 41.]\n",
      " [12. 22. 32. 42.]\n",
      " [13. 23. 33. 43.]\n",
      " [14. 24. 34. 44.]\n",
      " [15. 25. 35. 45.]]\n"
     ]
    }
   ],
   "source": [
    "#--- add two 1-D arrays\n",
    "\n",
    "a_plus_b = a + b[:, np.newaxis]   # original array values are on rows\n",
    "print(a_plus_b)\n",
    "\n",
    "b_plus_a = b + a[:, np.newaxis]   \n",
    "print(b_plus_a)"
   ]
  },
  {
   "cell_type": "code",
   "execution_count": 65,
   "id": "6636ae6c",
   "metadata": {},
   "outputs": [
    {
     "name": "stdout",
     "output_type": "stream",
     "text": [
      "d_2d\n",
      "[[10 17 26]\n",
      " [13 20 29]]\n",
      "\n",
      "d_3d\n",
      "[[[16 17 18 19]\n",
      "  [23 24 25 26]\n",
      "  [32 33 34 35]]\n",
      "\n",
      " [[19 20 21 22]\n",
      "  [26 27 28 29]\n",
      "  [35 36 37 38]]]\n",
      "(2, 3, 4)\n"
     ]
    }
   ],
   "source": [
    "#--- add multiple n-D arrays\n",
    "x = np.array([1, 2])\n",
    "y = np.array([3, 4, 5])\n",
    "z = np.array([6, 7, 8, 9])\n",
    "\n",
    "d_2d = x[:, np.newaxis]**2 + y**2  # (row=2, columne=3) array\n",
    "print(\"d_2d\")\n",
    "print(d_2d)\n",
    "\n",
    "d_3d = d_2d[..., np.newaxis] + z\n",
    "print(\"\")\n",
    "print(\"d_3d\")\n",
    "print(d_3d)\n",
    "print(d_3d.shape)"
   ]
  },
  {
   "cell_type": "markdown",
   "id": "a800447a",
   "metadata": {},
   "source": [
    "## Exercise 1: Given the 3D temperature field and 1-D pressure coordinates, calculate: 𝑇∗𝑒𝑥𝑝(𝑃/1000) "
   ]
  },
  {
   "cell_type": "code",
   "execution_count": null,
   "id": "e7ea8cad",
   "metadata": {},
   "outputs": [],
   "source": []
  },
  {
   "cell_type": "markdown",
   "id": "037dd9c6",
   "metadata": {},
   "source": [
    "## Exercise 2: Given the 2D surface pressure and two 1-D  hybrid coefficients (pk, bk), calculate pressure at each level: P=pk+bk*ps"
   ]
  },
  {
   "cell_type": "code",
   "execution_count": null,
   "id": "aa233708",
   "metadata": {},
   "outputs": [],
   "source": []
  }
 ],
 "metadata": {
  "kernelspec": {
   "display_name": "Python 3",
   "language": "python",
   "name": "python3"
  },
  "language_info": {
   "codemirror_mode": {
    "name": "ipython",
    "version": 3
   },
   "file_extension": ".py",
   "mimetype": "text/x-python",
   "name": "python",
   "nbconvert_exporter": "python",
   "pygments_lexer": "ipython3",
   "version": "3.8.8"
  }
 },
 "nbformat": 4,
 "nbformat_minor": 5
}
