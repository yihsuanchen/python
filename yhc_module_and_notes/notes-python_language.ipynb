{
 "cells": [
  {
   "cell_type": "markdown",
   "id": "6d9870ca",
   "metadata": {},
   "source": [
    "# Notes - Python Language\n",
    "\n",
    "Python Language basics. Array operation is in numpy or xarray notes."
   ]
  },
  {
   "cell_type": "markdown",
   "id": "81dcd3bf",
   "metadata": {},
   "source": [
    "## Modules\n",
    "\n",
    "**View module content**\n",
    "\n",
    "import yhc_module as yhc\n",
    "\n",
    "    help(yhc)          # see all functions and file path\n",
    "    help(yhc.func1)    # see func1 \n",
    "\n",
    "    dir(yhc)           # retun list of attributes and methods of an objecy\n",
    "\n",
    "\n",
    "**import Jupyter Notebooks as Modules**\n",
    "\n",
    "It is not straightforward to import Jupyter Notebook as Modules. I have found some ways on the internet, but they don't work in my Mac.\n",
    "\n",
    "https://jupyter-notebook.readthedocs.io/en/4.x/examples/Notebook/rstversions/Importing%20Notebooks.html\n",
    "https://www.linuxtut.com/en/d0f6e792b176d2613f9a/\n",
    "\n",
    "I also find that the developer of nbimporter does not recommed importing functions from other notebooks. It is hard to maintain and test functions.   \n",
    "https://github.com/grst/nbimporter\n",
    "\n",
    "Nevertheless, I still think it is useful to edit functions in the Notebook. So, the easies way may be to convert Jupyter Notebook into a normal python file, and load the python file. \n",
    "\n",
    "> jupyter nbconvert testnotebook.ipynb --to python\n",
    "\n",
    "A new file testnotebook.py would be created. \n",
    "\n",
    "**call own module**\n",
    "\n",
    "By default, Python will search the python module in the current folder and a list of folders. For example, \n",
    "> import yhc_module\n",
    "\n",
    "Pyhton will search **yhc_module.py** in the current folder. You can add a permanent path into the path by\n",
    "> import sys\n",
    "\n",
    "> sys.path  # see paths\n",
    "\n",
    "> sys.path.append(folder)\n",
    "\n",
    "> sys.path\n",
    "\n"
   ]
  },
  {
   "cell_type": "markdown",
   "id": "2616645a",
   "metadata": {},
   "source": [
    "## Pause program"
   ]
  },
  {
   "cell_type": "markdown",
   "id": "51d2e5dc",
   "metadata": {},
   "source": [
    "### raise - Pause in a cell\n",
    "https://www.w3schools.com/python/ref_keyword_raise.asp"
   ]
  },
  {
   "cell_type": "code",
   "execution_count": 1,
   "id": "00d3d35e",
   "metadata": {},
   "outputs": [
    {
     "ename": "RuntimeError",
     "evalue": "No active exception to reraise",
     "output_type": "error",
     "traceback": [
      "\u001b[0;31m---------------------------------------------------------------------------\u001b[0m",
      "\u001b[0;31mRuntimeError\u001b[0m                              Traceback (most recent call last)",
      "\u001b[0;32m<ipython-input-1-9c9a2cba73bf>\u001b[0m in \u001b[0;36m<module>\u001b[0;34m\u001b[0m\n\u001b[0;32m----> 1\u001b[0;31m \u001b[0;32mraise\u001b[0m\u001b[0;34m\u001b[0m\u001b[0;34m\u001b[0m\u001b[0m\n\u001b[0m",
      "\u001b[0;31mRuntimeError\u001b[0m: No active exception to reraise"
     ]
    }
   ],
   "source": [
    "raise"
   ]
  },
  {
   "cell_type": "code",
   "execution_count": 2,
   "id": "16f2c77e",
   "metadata": {},
   "outputs": [
    {
     "ename": "TypeError",
     "evalue": "b must be an integer",
     "output_type": "error",
     "traceback": [
      "\u001b[0;31m---------------------------------------------------------------------------\u001b[0m",
      "\u001b[0;31mTypeError\u001b[0m                                 Traceback (most recent call last)",
      "\u001b[0;32m<ipython-input-2-ce84d0258743>\u001b[0m in \u001b[0;36m<module>\u001b[0;34m\u001b[0m\n\u001b[1;32m      5\u001b[0m \u001b[0mb\u001b[0m\u001b[0;34m=\u001b[0m\u001b[0;34m\"good\"\u001b[0m\u001b[0;34m\u001b[0m\u001b[0;34m\u001b[0m\u001b[0m\n\u001b[1;32m      6\u001b[0m \u001b[0;32mif\u001b[0m \u001b[0;32mnot\u001b[0m \u001b[0mtype\u001b[0m\u001b[0;34m(\u001b[0m\u001b[0mb\u001b[0m\u001b[0;34m)\u001b[0m \u001b[0;32mis\u001b[0m \u001b[0mint\u001b[0m\u001b[0;34m:\u001b[0m\u001b[0;34m\u001b[0m\u001b[0;34m\u001b[0m\u001b[0m\n\u001b[0;32m----> 7\u001b[0;31m     \u001b[0;32mraise\u001b[0m \u001b[0mTypeError\u001b[0m\u001b[0;34m(\u001b[0m\u001b[0;34m\"b must be an integer\"\u001b[0m\u001b[0;34m)\u001b[0m\u001b[0;34m\u001b[0m\u001b[0;34m\u001b[0m\u001b[0m\n\u001b[0m",
      "\u001b[0;31mTypeError\u001b[0m: b must be an integer"
     ]
    }
   ],
   "source": [
    "a=1\n",
    "if a < 0:\n",
    "    raise Exception(\"Sorry, no numbers below zero\")\n",
    "    \n",
    "b=\"good\"\n",
    "if not type(b) is int:\n",
    "    raise TypeError(\"b must be an integer\")"
   ]
  },
  {
   "cell_type": "markdown",
   "id": "c427f918",
   "metadata": {},
   "source": [
    "## Indentation\n",
    "\n",
    "**\"In Python, all the code that you type is arranged via correct whitespaces and therefore if at any instance you have a bad indentation, the overall code will not run and the interpreter will simply return an error function.\"**\n",
    "\n",
    "\"Since python makes use of procedural language, if you miss out on adding tabs or spaces between your lines of code, then you will most likely experience this error. Although in some cases the entire program will run correctly, in others the error will come in the middle of the execution and therefore pause the entire process.\"\n",
    "\n",
    "**- Spaces are the preferred indentation method. It is suggested that 4 whitespaces between every iteration**\n",
    "\n",
    "**- Tabs should be used solely to remain consistent with code that is already indented with tabs.**\n",
    "\n",
    "**- Python disallows mixing tabs and spaces for indentation.**\n",
    "\n",
    "References\n",
    "\n",
    "- https://www.edureka.co/blog/indentation-error-in-python/\n",
    "- https://peps.python.org/pep-0008/#tabs-or-spaces (with clear examples)\n"
   ]
  },
  {
   "cell_type": "code",
   "execution_count": 3,
   "id": "a7f3a40d",
   "metadata": {},
   "outputs": [
    {
     "ename": "IndentationError",
     "evalue": "expected an indented block (<ipython-input-3-2eaa7d92d0f4>, line 5)",
     "output_type": "error",
     "traceback": [
      "\u001b[0;36m  File \u001b[0;32m\"<ipython-input-3-2eaa7d92d0f4>\"\u001b[0;36m, line \u001b[0;32m5\u001b[0m\n\u001b[0;31m    print(var_one)\u001b[0m\n\u001b[0m    ^\u001b[0m\n\u001b[0;31mIndentationError\u001b[0m\u001b[0;31m:\u001b[0m expected an indented block\n"
     ]
    }
   ],
   "source": [
    "#--- print cannot be the same bloack as def. You should add an indented block in front of print.\n",
    "def test1(\n",
    "    var_one, var_two, var_three,\n",
    "    var_four):\n",
    "print(var_one)"
   ]
  },
  {
   "cell_type": "code",
   "execution_count": 4,
   "id": "dbc21fef",
   "metadata": {},
   "outputs": [],
   "source": [
    "#--- Although I mix whitespaces and tabs, this still can run. Jupyter Notebook seems to convert tab to 4 spaces.\n",
    "def test2(\n",
    "var_one,  \n",
    "            var_two, var_three,\n",
    "        var_four):\n",
    "    print(var_one)"
   ]
  },
  {
   "cell_type": "code",
   "execution_count": 5,
   "id": "9cf4891c",
   "metadata": {},
   "outputs": [
    {
     "ename": "IndentationError",
     "evalue": "unexpected indent (<ipython-input-5-6d8499c2ddd0>, line 5)",
     "output_type": "error",
     "traceback": [
      "\u001b[0;36m  File \u001b[0;32m\"<ipython-input-5-6d8499c2ddd0>\"\u001b[0;36m, line \u001b[0;32m5\u001b[0m\n\u001b[0;31m    print(\"good\")\u001b[0m\n\u001b[0m    ^\u001b[0m\n\u001b[0;31mIndentationError\u001b[0m\u001b[0;31m:\u001b[0m unexpected indent\n"
     ]
    }
   ],
   "source": [
    "#--- Python uses PEP8 whitescpae ehtnics, that is, there should be 4 whitespaces between every iteration.\n",
    "#    Any alternative that doesn’t have this will return an error.\n",
    "def test3(var_one):\n",
    "  print(\"yaya\")\n",
    "    print(\"good\")"
   ]
  },
  {
   "cell_type": "code",
   "execution_count": 6,
   "id": "61f5451d",
   "metadata": {},
   "outputs": [],
   "source": [
    "#--- In Jupyternotebook, potentially problematic indentation will show in red. This cell works fine though\n",
    "def test3(var_one):\n",
    "  print(\"yaya\")\n",
    "  print(\"good\")"
   ]
  },
  {
   "cell_type": "markdown",
   "id": "e6f02c8b",
   "metadata": {},
   "source": [
    "## String\n",
    "\n",
    "Python String Methods - https://www.w3schools.com/PYTHON/python_ref_string.asp\n",
    "\n",
    "**References**:\n",
    "\n",
    "W3 schools - https://www.w3schools.com/PYTHON/python_strings.asp\n"
   ]
  },
  {
   "cell_type": "markdown",
   "id": "2d55dc4a",
   "metadata": {},
   "source": [
    "### Create a string "
   ]
  },
  {
   "cell_type": "code",
   "execution_count": 7,
   "id": "96626393",
   "metadata": {},
   "outputs": [
    {
     "name": "stdout",
     "output_type": "stream",
     "text": [
      "\n",
      "A: yes you are right.\n",
      "B: Thanks\n",
      "\n",
      "---------\n",
      "I am ok \n",
      " good\n"
     ]
    }
   ],
   "source": [
    "### assign a multiline string to a variable by using three double (or single) quotes\n",
    "a = \"\"\"\n",
    "A: yes you are right.\n",
    "B: Thanks\n",
    "\"\"\"\n",
    "print(a)\n",
    "\n",
    "### add a new line in a string (\\n)\n",
    "print(\"---------\")\n",
    "b = \"I am ok \\n good\"\n",
    "print(b)"
   ]
  },
  {
   "cell_type": "markdown",
   "id": "4f6124d7",
   "metadata": {},
   "source": [
    "### If statement for string"
   ]
  },
  {
   "cell_type": "code",
   "execution_count": 8,
   "id": "9d3dd293",
   "metadata": {},
   "outputs": [
    {
     "name": "stdout",
     "output_type": "stream",
     "text": [
      "---------\n",
      "Yes, 'fre' is present.\n",
      "No, 'expensive' is NOT present.\n"
     ]
    }
   ],
   "source": [
    "### check if a certain phrase or character is present in a strin\n",
    "print(\"---------\")\n",
    "txt = \"The best things in life are free!\"\n",
    "if \"fre\" in txt:\n",
    "  print(\"Yes, 'fre' is present.\")\n",
    "\n",
    "if \"expensive\" not in txt:\n",
    "  print(\"No, 'expensive' is NOT present.\")"
   ]
  },
  {
   "cell_type": "markdown",
   "id": "753c7ee6",
   "metadata": {},
   "source": [
    "### String operation"
   ]
  },
  {
   "cell_type": "code",
   "execution_count": 9,
   "id": "0b8c530d",
   "metadata": {},
   "outputs": [
    {
     "name": "stdout",
     "output_type": "stream",
     "text": [
      "Californian_Sc, Peruvian_Sc, Namibian_Sc, DYCOMS\n",
      "Californian_Sc,, Peruvian_Sc,, Namibian_Sc,, DYCOMS\n"
     ]
    }
   ],
   "source": [
    "### merge list to a string, '$symbols'.join()\n",
    "#### https://www.w3schools.com/PYTHON/ref_string_join.asp\n",
    "\n",
    "region_list = [\"Californian_Sc\",\"Peruvian_Sc\",\"Namibian_Sc\",\"DYCOMS\"]\n",
    "print(', '.join(region_list))\n",
    "print(',, '.join(region_list))\n"
   ]
  },
  {
   "cell_type": "code",
   "execution_count": null,
   "id": "0d92d360",
   "metadata": {},
   "outputs": [],
   "source": []
  }
 ],
 "metadata": {
  "kernelspec": {
   "display_name": "Python 3",
   "language": "python",
   "name": "python3"
  },
  "language_info": {
   "codemirror_mode": {
    "name": "ipython",
    "version": 3
   },
   "file_extension": ".py",
   "mimetype": "text/x-python",
   "name": "python",
   "nbconvert_exporter": "python",
   "pygments_lexer": "ipython3",
   "version": "3.8.8"
  }
 },
 "nbformat": 4,
 "nbformat_minor": 5
}
