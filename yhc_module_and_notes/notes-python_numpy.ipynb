{
 "cells": [
  {
   "cell_type": "markdown",
   "id": "a7933cba",
   "metadata": {},
   "source": [
    "# Notes - Python arrays\n",
    "\n",
    "## Numeric operation on array\n",
    "\n",
    "Even though all elements are numeric values in a array, Python doesn't think it is a numeric array. As a result, I cannot do numerical operation in this array. I have to convert the array to a numpy array, so I can do numeric operation.\n",
    "\n",
    "- **Numpy array nerical operations**\n",
    " - Unidata - Numpy Basics, https://unidata.github.io/python-training/workshop/NumPy/numpy-basics/\n",
    " - Unidata - Numpy Intermidiate, https://unidata.github.io/python-training/workshop/NumPy/intermediate-numpy/\n",
    " - Unidata - Broadcasting and Vectorization, https://unidata.github.io/python-training/workshop/NumPy/numpy-broadcasting-and-vectorization/\n",
    " - Numpy basics - https://numpy.org/devdocs/user/absolute_beginners.html\n",
    " - Scipy - https://scipy-lectures.org/intro/numpy/operations.html\n",
    " \n",
    "Recommended learning order: (1) Unidata Numpy Basics (2) Numpy basics\n"
   ]
  },
  {
   "cell_type": "markdown",
   "id": "b593aab2",
   "metadata": {},
   "source": [
    "## Learning objective\n",
    "- Create an array with any dimention. Set attributes and coordinates to this array.\n",
    "- Do numerical operations on this array, and with other arrays.\n",
    "\n",
    "- broadcasting\n",
    "\n"
   ]
  },
  {
   "cell_type": "markdown",
   "id": "c5570149",
   "metadata": {},
   "source": [
    "## Numpy\n",
    "\n",
    "In NumPy, dimensions are called **axes**. This means that if you have a 2D array that looks like this:\n",
    "\n",
    "[0., 0., 0.] \\\n",
    "[1., 1., 1.]\n",
    "\n",
    "Your array has 2 axes. The first axis has a length of 2 (rows) and the second axis has a length of 3 (columns), i.e. matrix(2,3)"
   ]
  },
  {
   "cell_type": "code",
   "execution_count": 1,
   "id": "98b6f3a9",
   "metadata": {},
   "outputs": [],
   "source": [
    "import numpy as np"
   ]
  },
  {
   "cell_type": "markdown",
   "id": "dbc1040b",
   "metadata": {},
   "source": [
    "## Create an array and check out its characteristics "
   ]
  },
  {
   "cell_type": "code",
   "execution_count": 2,
   "id": "02a9e29a",
   "metadata": {},
   "outputs": [
    {
     "name": "stdout",
     "output_type": "stream",
     "text": [
      "[10. 20. 25. 30.]\n",
      "[10. 20. 25. 30.]\n",
      "2\n",
      "(2, 3)\n",
      "int64\n",
      "(5, 3)\n"
     ]
    }
   ],
   "source": [
    "#--- create arrays from a list\n",
    "\n",
    "a_1d = np.array([1, 2, 3])          # a 1-D array\n",
    "a_2d = np.array([[1,2,3],[4,5,6]])  # a (2,3) array\n",
    "\n",
    "#--- create arrays from functions\n",
    "#      arange(start, stop, interval) creates a range of values in the interval [start,stop) with step spacing.\n",
    "#      linspace(start, stop, num) creates a range of num evenly spaced values over the range [start,stop].\n",
    "b_1d_01 = np.arange(3)         # [0 1 2]\n",
    "b_1d_02 = np.arange(1,4)       # [0 1 2 3]\n",
    "b_1d_03 = np.arange(1,6,2)     # [1 3 5]\n",
    "\n",
    "b_1d_11 = np.linspace(1,5,5)   # [1 2 3 4 5], 5 elements\n",
    "b_1d_12 = np.linspace(1,2,3)   # [1 1.5 2],   3 elements\n",
    "\n",
    "#--- create n-dimentional arrays\n",
    "row=5  \n",
    "col=3\n",
    "c_nd_01 = np.zeros(row*col).reshape(row,col)\n",
    "c_nd_02 = np.ones(row*col).reshape(row,col)\n",
    "c_nd_02 = np.empty(row*col).reshape(row,col)\n",
    "\n",
    "#--- Make a copy of the array\n",
    "x = np.array([10.,20.,25.,30.])\n",
    "x2 = x.copy()\n",
    "print(x)\n",
    "print(x2)\n",
    "\n",
    "#--- check out array properties\n",
    "print(a_2d.ndim)    # See how many dimensions the array has\n",
    "print(a_2d.shape)   # Print out the shape attribute\n",
    "print(a_2d.dtype)   # Print out the data type attribute\n",
    "\n",
    "print(c_nd_01.shape)"
   ]
  },
  {
   "cell_type": "markdown",
   "id": "74b9f565",
   "metadata": {},
   "source": [
    "## Useful operations "
   ]
  },
  {
   "cell_type": "markdown",
   "id": "9a5cb757",
   "metadata": {},
   "source": [
    "### 1. taking differences in array elements"
   ]
  },
  {
   "cell_type": "code",
   "execution_count": 3,
   "id": "53a2c9be",
   "metadata": {},
   "outputs": [
    {
     "name": "stdout",
     "output_type": "stream",
     "text": [
      "[20. 25. 30.]\n",
      "[10. 20. 25.]\n",
      "[10. 20. 25. 30.]\n",
      "[15.  22.5 27.5]\n",
      "np.diff\n",
      "[10.  5.  5.]\n",
      "np.ediff1d\n",
      "[ 1  2 -3  5 18]\n"
     ]
    }
   ],
   "source": [
    "########################################\n",
    "# taking differences in array elements\n",
    "########################################\n",
    "\n",
    "#--- Given the original array, get another array where the values are the mean of each pair of values\n",
    "plev = np.array([10.,20.,25.,30.])\n",
    "play = (plev[1:] + plev[:-1]) / 2\n",
    "\n",
    "print(plev[1:])\n",
    "print(plev[:-1])\n",
    "print(plev)\n",
    "print(play)\n",
    "\n",
    "#--- Calculate the n-th discrete difference along the given axis.\n",
    "print(\"np.diff\")\n",
    "print(np.diff(plev))\n",
    "\n",
    "\n",
    "#--- The differences between consecutive elements of an array.\n",
    "#     The returned array is always 1D.\n",
    "print(\"np.ediff1d\")\n",
    "y = [[1, 2, 4], [1, 6, 24]]\n",
    "print(np.ediff1d(y))"
   ]
  },
  {
   "cell_type": "markdown",
   "id": "3ad03e0a",
   "metadata": {},
   "source": [
    "### 2. Indexing Arrays with Boolean Values\n",
    "https://unidata.github.io/python-training/workshop/NumPy/intermediate-numpy/#2.-Indexing-Arrays-with-Boolean-Values\n"
   ]
  },
  {
   "cell_type": "code",
   "execution_count": 4,
   "id": "110a5a51",
   "metadata": {},
   "outputs": [
    {
     "name": "stdout",
     "output_type": "stream",
     "text": [
      "[ True  True  True  True  True  True  True  True  True  True  True  True\n",
      "  True  True  True  True  True  True  True  True  True  True  True  True\n",
      "  True  True  True  True False False  True False False False False False\n",
      " False False False False False False False False False False False False\n",
      " False False False False False False False False False False False False\n",
      " False False False False False  True False False False False  True  True\n",
      "  True  True  True  True  True  True  True  True  True  True  True  True\n",
      "  True  True  True  True  True  True  True  True  True  True  True  True\n",
      "  True  True  True  True]\n",
      "[69.89825854 71.52313905 69.90028363 66.73828667 66.77980233 72.91468564\n",
      " 69.34603239 69.09533591 68.27350814 64.33916721 67.49497791 67.05282372\n",
      " 63.51829518 63.54034678 65.46576463 62.99683836 59.27662304 61.29361272\n",
      " 60.51641586 57.46048995 55.19793004 53.07572989 54.47998158 53.09552107\n",
      " 54.59037269 47.84272747 49.1435589  45.87151534 45.11976794 45.009292\n",
      " 46.36021141 46.87557425 47.25668992 50.09599544 53.77789358 50.24073197\n",
      " 54.07629059 51.95065202 55.84827794 57.56967086 57.19572063 61.67658285\n",
      " 56.51474577 59.72166924 62.99403256 63.57569453 64.05984232 60.88258643\n",
      " 65.37759899 63.94115754 65.53070256 67.15175649 66.26468701 67.03811793\n",
      " 69.17773618 69.83571708 70.99586742 66.34971928 67.49905207 69.83593609]\n",
      "[66.73828667 66.77980233 69.34603239 69.09533591 68.27350814 64.33916721\n",
      " 67.49497791 67.05282372 63.51829518 63.54034678 65.46576463 62.99683836\n",
      " 59.27662304 61.29361272 60.51641586 57.46048995 55.19793004 53.07572989\n",
      " 54.47998158 53.09552107 54.59037269 47.84272747 49.1435589  45.87151534\n",
      " 43.95971516 42.72814762 42.45316175 39.2797517  40.23351938 36.77179678\n",
      " 34.43329229 31.42277612 38.97505745 34.10549575 35.70826448 29.01276068\n",
      " 30.31180935 29.31602671 32.84580454 30.76695309 29.11344716 30.16652571\n",
      " 29.91513049 39.51784389 69.17773618 69.83571708 69.83593609]\n",
      "[43.95971516 42.72814762 42.45316175 39.2797517  40.23351938 36.77179678\n",
      " 34.43329229 31.42277612 38.97505745 34.10549575 35.70826448 29.01276068\n",
      " 30.31180935 29.31602671 32.84580454 30.76695309 29.11344716 30.16652571\n",
      " 29.91513049 39.51784389]\n"
     ]
    },
    {
     "data": {
      "text/plain": [
       "[<matplotlib.lines.Line2D at 0x7fa7b4540a30>]"
      ]
     },
     "execution_count": 4,
     "metadata": {},
     "output_type": "execute_result"
    },
    {
     "data": {
      "image/png": "[encoded data removed]",
      "text/plain": [
       "<Figure size 432x288 with 1 Axes>"
      ]
     },
     "metadata": {
      "needs_background": "light"
     },
     "output_type": "display_data"
    }
   ],
   "source": [
    "#########################################\n",
    "# Indexing Arrays with Boolean Values\n",
    "#   https://unidata.github.io/python-training/workshop/NumPy/intermediate-numpy/\n",
    "#########################################\n",
    "\n",
    "import numpy as np\n",
    "import matplotlib.pyplot as plt\n",
    "\n",
    "#--- Create some synthetic data representing temperature and wind speed data\n",
    "np.random.seed(19990503)  # Make sure we all have the same data\n",
    "temp = (20 * np.cos(np.linspace(0, 2 * np.pi, 100)) +\n",
    "        50 + 2 * np.random.randn(100))\n",
    "spd = (np.abs(10 * np.sin(np.linspace(0, 2 * np.pi, 100)) +\n",
    "              10 + 5 * np.random.randn(100)))\n",
    "\n",
    "#--- plot\n",
    "plt.plot(temp, 'tab:red')\n",
    "plt.plot(spd, 'tab:blue')\n",
    "\n",
    "#--- find which element satisfy the criteria\n",
    "print(temp > 45.)\n",
    "print(temp[temp > 45.])    # print out temp value for those temp > 45.\n",
    "print(temp[spd > 10])      # rint out temp value for those spd > 10\n",
    "print(temp[(temp < 45) & (spd > 10)])  # print out temp value for those temp > 45. & spd > 10\n",
    "\n",
    "#--- modify elements if necessary\n",
    "temp2 = temp.copy()\n",
    "temp2[spd < 10] = np.nan\n",
    "plt.plot(temp2, 'black')"
   ]
  },
  {
   "cell_type": "markdown",
   "id": "d9df1b61",
   "metadata": {},
   "source": [
    "### 3. Indexing using arrays of indices\n",
    "https://unidata.github.io/python-training/workshop/NumPy/intermediate-numpy/#3.-Indexing-using-arrays-of-indices"
   ]
  },
  {
   "cell_type": "code",
   "execution_count": 5,
   "id": "bc8b5a53",
   "metadata": {},
   "outputs": [
    {
     "name": "stdout",
     "output_type": "stream",
     "text": [
      "original array\n",
      "[1. 5. 2. 7. 3.]\n",
      "sort indices\n",
      "[0 2 4 1 3]\n",
      "[1. 2. 3. 5. 7.]\n"
     ]
    }
   ],
   "source": [
    "#--- use argsort to the indices of the array that give the items in sorted order\n",
    "x = np.array([1., 5., 2., 7., 3.])\n",
    "inds = np.argsort(x)\n",
    "\n",
    "print(\"original array\")\n",
    "print(x)\n",
    "print(\"sort indices\")\n",
    "print(inds)\n",
    "print(x[inds])"
   ]
  },
  {
   "cell_type": "markdown",
   "id": "6cbeff57",
   "metadata": {},
   "source": [
    "## Adding and sorting elements\n",
    "https://numpy.org/devdocs/user/absolute_beginners.html#adding-removing-and-sorting-elements"
   ]
  },
  {
   "cell_type": "code",
   "execution_count": 6,
   "id": "a7d6f741",
   "metadata": {},
   "outputs": [
    {
     "data": {
      "text/plain": [
       "array([1, 3, 5, 4, 2, 6, 9, 8])"
      ]
     },
     "execution_count": 6,
     "metadata": {},
     "output_type": "execute_result"
    }
   ],
   "source": [
    "a = np.array([1, 3, 5, 4])\n",
    "b = np.array([2, 6, 9, 8])\n",
    "\n",
    "#--- sort array\n",
    "np.sort(a)\n",
    "\n",
    "#--- concatenate arrays\n",
    "np.concatenate((a,b),axis=0)"
   ]
  },
  {
   "cell_type": "markdown",
   "id": "88fee963",
   "metadata": {},
   "source": [
    "## Convert a 1D array into a 2D array (how to add a new axis to an array)\n",
    "https://numpy.org/devdocs/user/absolute_beginners.html#how-to-convert-a-1d-array-into-a-2d-array-how-to-add-a-new-axis-to-an-array"
   ]
  },
  {
   "cell_type": "code",
   "execution_count": 7,
   "id": "78959ea2",
   "metadata": {},
   "outputs": [
    {
     "name": "stdout",
     "output_type": "stream",
     "text": [
      "(6,)\n",
      "(4, 1)\n",
      "(1, 1, 4)\n",
      "--------------\n",
      "(1, 4)\n",
      "(4, 1)\n"
     ]
    }
   ],
   "source": [
    "#--- use nexaxis \n",
    "a1 = np.array([1, 2, 3, 4, 5, 6])\n",
    "a2 = a[:,np.newaxis]\n",
    "a3 = a[np.newaxis,np.newaxis,:]\n",
    "\n",
    "print(a1.shape)\n",
    "print(a2.shape)\n",
    "print(a3.shape)\n",
    "\n",
    "#--- use expand_dims\n",
    "b1 = np.expand_dims(a, axis=0)\n",
    "b2 = np.expand_dims(a, axis=1)\n",
    "print('--------------')\n",
    "print(b1.shape)\n",
    "print(b2.shape)"
   ]
  },
  {
   "cell_type": "markdown",
   "id": "4d50a34a",
   "metadata": {},
   "source": [
    "## Broadcasting\n",
    "\n",
    "- Unidata - Broadcasting and Vectorization, https://unidata.github.io/python-training/workshop/NumPy/numpy-broadcasting-and-vectorization/\n",
    "- Numpy - https://numpy.org/devdocs/user/basics.broadcasting.html#basics-broadcasting\n",
    "- Numpy - https://numpy.org/devdocs/user/absolute_beginners.html#broadcasting\n",
    "\n",
    "The term broadcasting describes how NumPy treats arrays with different shapes during arithmetic operations. Subject to certain constraints, the smaller array is “broadcast” across the larger array so that they have compatible shapes. Broadcasting provides a means of vectorizing array operations so that looping occurs in C instead of Python.\n",
    "\n",
    "======== \\\n",
    "My understanding: \\\n",
    "A nice diagram in Numpy: https://numpy.org/devdocs/user/basics.broadcasting.html#broadcastable-arrays\n",
    "\n",
    "Let's say there are two arrays: arr1[M] and arr2[N]. It is impossible to add elements from arr1 to arr2 because they have different shapes. So, np.newaxis can \"broadcast\" a new array as arr3[MxN]. Each element can be arithemetic operations of arr1 and arr2.  \n",
    "\n",
    "See Exercises below."
   ]
  },
  {
   "cell_type": "code",
   "execution_count": 8,
   "id": "1d96b60f",
   "metadata": {},
   "outputs": [
    {
     "data": {
      "text/plain": [
       "array([[2., 4., 6.],\n",
       "       [5., 7., 9.]])"
      ]
     },
     "execution_count": 8,
     "metadata": {},
     "output_type": "execute_result"
    }
   ],
   "source": [
    "### b is added to each row of a\n",
    "a = np.array([1.,2.,3.])\n",
    "b = np.array([[1.,2.,3.],\n",
    "              [4.,5.,6.]])\n",
    "\n",
    "a+b"
   ]
  },
  {
   "cell_type": "code",
   "execution_count": 9,
   "id": "005465b2",
   "metadata": {},
   "outputs": [
    {
     "ename": "ValueError",
     "evalue": "operands could not be broadcast together with shapes (5,) (4,) ",
     "output_type": "error",
     "traceback": [
      "\u001b[0;31m---------------------------------------------------------------------------\u001b[0m",
      "\u001b[0;31mValueError\u001b[0m                                Traceback (most recent call last)",
      "\u001b[0;32m<ipython-input-9-1d7d4fbc74d0>\u001b[0m in \u001b[0;36m<module>\u001b[0;34m\u001b[0m\n\u001b[1;32m      5\u001b[0m \u001b[0mb\u001b[0m \u001b[0;34m=\u001b[0m \u001b[0mnp\u001b[0m\u001b[0;34m.\u001b[0m\u001b[0marray\u001b[0m\u001b[0;34m(\u001b[0m\u001b[0;34m[\u001b[0m\u001b[0;36m10.\u001b[0m\u001b[0;34m,\u001b[0m \u001b[0;36m20.\u001b[0m\u001b[0;34m,\u001b[0m \u001b[0;36m30.\u001b[0m\u001b[0;34m,\u001b[0m \u001b[0;36m40.\u001b[0m\u001b[0;34m]\u001b[0m\u001b[0;34m)\u001b[0m\u001b[0;34m\u001b[0m\u001b[0;34m\u001b[0m\u001b[0m\n\u001b[1;32m      6\u001b[0m \u001b[0;34m\u001b[0m\u001b[0m\n\u001b[0;32m----> 7\u001b[0;31m \u001b[0ma\u001b[0m\u001b[0;34m+\u001b[0m\u001b[0mb\u001b[0m\u001b[0;34m\u001b[0m\u001b[0;34m\u001b[0m\u001b[0m\n\u001b[0m",
      "\u001b[0;31mValueError\u001b[0m: operands could not be broadcast together with shapes (5,) (4,) "
     ]
    }
   ],
   "source": [
    "### pairwise addition of two arrays with different dimensions ###\n",
    "\n",
    "#--- example arrays\n",
    "a = np.array([1.,2.,3.,4.,5])\n",
    "b = np.array([10., 20., 30., 40.])\n",
    "\n",
    "a+b"
   ]
  },
  {
   "cell_type": "markdown",
   "id": "539b0ba2",
   "metadata": {},
   "source": [
    "Use loops to add these two arrays"
   ]
  },
  {
   "cell_type": "code",
   "execution_count": 10,
   "id": "d6e99b0d",
   "metadata": {},
   "outputs": [
    {
     "data": {
      "text/plain": [
       "array([[11., 21., 31., 41.],\n",
       "       [12., 22., 32., 42.],\n",
       "       [13., 23., 33., 43.],\n",
       "       [14., 24., 34., 44.],\n",
       "       [15., 25., 35., 45.]])"
      ]
     },
     "execution_count": 10,
     "metadata": {},
     "output_type": "execute_result"
    }
   ],
   "source": [
    "#--- a.shape is a tuple. To convert it to an integer, use a.shape[0]\n",
    "a_plus_b = np.empty((a.shape[0],b.shape[0]), dtype=a.dtype)\n",
    "\n",
    "#--- enumerate returns [index, value]\n",
    "for col, valb in enumerate(b):\n",
    "    for row, vala in enumerate(a):\n",
    "        a_plus_b[row, col] = vala + valb\n",
    "\n",
    "a_plus_b"
   ]
  },
  {
   "cell_type": "markdown",
   "id": "0962e2c6",
   "metadata": {},
   "source": [
    "Use newaxis"
   ]
  },
  {
   "cell_type": "code",
   "execution_count": 11,
   "id": "faffab64",
   "metadata": {},
   "outputs": [
    {
     "name": "stdout",
     "output_type": "stream",
     "text": [
      "[[11. 12. 13. 14. 15.]\n",
      " [21. 22. 23. 24. 25.]\n",
      " [31. 32. 33. 34. 35.]\n",
      " [41. 42. 43. 44. 45.]]\n",
      "(4, 5)\n",
      "[[11. 21. 31. 41.]\n",
      " [12. 22. 32. 42.]\n",
      " [13. 23. 33. 43.]\n",
      " [14. 24. 34. 44.]\n",
      " [15. 25. 35. 45.]]\n",
      "(5, 4)\n"
     ]
    }
   ],
   "source": [
    "#--- add two 1-D arrays\n",
    "\n",
    "a_plus_b = a + b[:, np.newaxis]   # original array values are on rows\n",
    "print(a_plus_b)\n",
    "print(a_plus_b.shape)\n",
    "\n",
    "b_plus_a = b + a[:, np.newaxis]   \n",
    "print(b_plus_a)\n",
    "print(b_plus_a.shape)\n"
   ]
  },
  {
   "cell_type": "code",
   "execution_count": 12,
   "id": "13d59233",
   "metadata": {},
   "outputs": [
    {
     "name": "stdout",
     "output_type": "stream",
     "text": [
      "d_2d\n",
      "[[10 17 26]\n",
      " [13 20 29]]\n",
      "\n",
      "d_3d\n",
      "[[[16 17 18 19]\n",
      "  [23 24 25 26]\n",
      "  [32 33 34 35]]\n",
      "\n",
      " [[19 20 21 22]\n",
      "  [26 27 28 29]\n",
      "  [35 36 37 38]]]\n",
      "(2, 3, 4)\n"
     ]
    }
   ],
   "source": [
    "#--- add multiple n-D arrays\n",
    "x = np.array([1, 2])\n",
    "y = np.array([3, 4, 5])\n",
    "z = np.array([6, 7, 8, 9])\n",
    "\n",
    "d_2d = x[:, np.newaxis]**2 + y**2  # (row=2, columne=3) array\n",
    "print(\"d_2d\")\n",
    "print(d_2d)\n",
    "\n",
    "d_3d = d_2d[..., np.newaxis] + z\n",
    "print(\"\")\n",
    "print(\"d_3d\")\n",
    "print(d_3d)\n",
    "print(d_3d.shape)"
   ]
  },
  {
   "cell_type": "markdown",
   "id": "66542204",
   "metadata": {},
   "source": [
    "## Exercise 1: Given the 3D temperature field and 1-D pressure coordinates, calculate: 𝑇∗𝑒𝑥𝑝(𝑃/1000) "
   ]
  },
  {
   "cell_type": "code",
   "execution_count": 13,
   "id": "7eeaf52e",
   "metadata": {},
   "outputs": [
    {
     "name": "stdout",
     "output_type": "stream",
     "text": [
      "temps\n",
      "[[[20.         20.43478261]\n",
      "  [20.86956522 21.30434783]\n",
      "  [21.73913043 22.17391304]]\n",
      "\n",
      " [[22.60869565 23.04347826]\n",
      "  [23.47826087 23.91304348]\n",
      "  [24.34782609 24.7826087 ]]\n",
      "\n",
      " [[25.2173913  25.65217391]\n",
      "  [26.08695652 26.52173913]\n",
      "  [26.95652174 27.39130435]]\n",
      "\n",
      " [[27.82608696 28.26086957]\n",
      "  [28.69565217 29.13043478]\n",
      "  [29.56521739 30.        ]]]\n",
      "thetas\n",
      "[[[54.36563657 55.54749823]\n",
      "  [56.7293599  57.91122156]\n",
      "  [59.09308323 60.27494489]]\n",
      "\n",
      " [[52.89636361 53.91360137]\n",
      "  [54.93083913 55.94807689]\n",
      "  [56.96531466 57.98255242]]\n",
      "\n",
      " [[41.57644944 42.29328477]\n",
      "  [43.01012011 43.72695544]\n",
      "  [44.44379078 45.16062611]]\n",
      "\n",
      " [[37.56128856 38.14818369]\n",
      "  [38.73507883 39.32197396]\n",
      "  [39.90886909 40.49576423]]]\n",
      "23.91304347826087\n",
      "55.948076893882394\n"
     ]
    }
   ],
   "source": [
    "pressure = np.array([1000, 850, 500, 300])\n",
    "temps = np.linspace(20, 30, 24).reshape(4, 3, 2)  # regard as (time, lat, lon)\n",
    "\n",
    "thetas = temps * np.exp(pressure[:, np.newaxis, np.newaxis] / 1000.)\n",
    "\n",
    "print(\"temps\")\n",
    "print(temps)\n",
    "\n",
    "print(\"thetas\")\n",
    "print(thetas)\n",
    "\n",
    "tt, ii, jj= 1, 1, 1\n",
    "print(temps[tt,ii,jj])\n",
    "print(thetas[tt,ii,jj])"
   ]
  },
  {
   "cell_type": "markdown",
   "id": "bb8f9595",
   "metadata": {},
   "source": [
    "## Exercise 2: Given the 2D surface pressure and two 1-D  hybrid coefficients (pk, bk), calculate pressure at each level: P=pk+bk*ps"
   ]
  },
  {
   "cell_type": "code",
   "execution_count": 14,
   "id": "c95c96eb",
   "metadata": {},
   "outputs": [
    {
     "name": "stdout",
     "output_type": "stream",
     "text": [
      "(2, 3)\n",
      "(2, 3, 4)\n",
      "800.0\n",
      "[ 80. 170. 260. 350.]\n"
     ]
    }
   ],
   "source": [
    "#--- given ps, pk, and bk values\n",
    "ps = np.array([[800., 900., 1000.], [500., 600., 700.]])  # ps is a 2-D array\n",
    "#ps = np.array([800.])                                    # ps is a 1-D array\n",
    "\n",
    "pk = np.array([0., 10., 20., 30.])\n",
    "bk = np.array([0.1, 0.2, 0.3, 0.4])\n",
    "\n",
    "#--- compute p = pk + bk*ps\n",
    "plev = pk + ps[..., np.newaxis]*bk\n",
    "\n",
    "print(ps.shape)\n",
    "print(plev.shape)\n",
    "\n",
    "#--- print out element value\n",
    "ii, jj = 0,0\n",
    "print(ps[ii,jj])\n",
    "print(plev[ii,jj,:])"
   ]
  },
  {
   "cell_type": "code",
   "execution_count": null,
   "id": "076dde0e",
   "metadata": {},
   "outputs": [],
   "source": []
  }
 ],
 "metadata": {
  "kernelspec": {
   "display_name": "Python 3",
   "language": "python",
   "name": "python3"
  },
  "language_info": {
   "codemirror_mode": {
    "name": "ipython",
    "version": 3
   },
   "file_extension": ".py",
   "mimetype": "text/x-python",
   "name": "python",
   "nbconvert_exporter": "python",
   "pygments_lexer": "ipython3",
   "version": "3.8.8"
  }
 },
 "nbformat": 4,
 "nbformat_minor": 5
}
