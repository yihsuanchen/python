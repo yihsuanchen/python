{
 "cells": [
  {
   "cell_type": "markdown",
   "id": "6d9870ca",
   "metadata": {},
   "source": [
    "# Notes - Python functions\n",
    "\n",
    "Some popular functions are noted"
   ]
  },
  {
   "cell_type": "markdown",
   "id": "81dcd3bf",
   "metadata": {},
   "source": [
    "## Modules\n",
    "\n",
    "**View module content**\n",
    "\n",
    "import yhc_module as yhc\n",
    "\n",
    "    help(yhc)          # see all functions and file path\n",
    "    help(yhc.func1)    # see func1 \n",
    "\n",
    "    dir(yhc)           # retun list of attributes and methods of an objecy\n",
    "\n",
    "\n",
    "**import Jupyter Notebooks as Modules**\n",
    "\n",
    "It is not straightforward to import Jupyter Notebook as Modules. I have found some ways on the internet, but they don't work in my Mac.\n",
    "\n",
    "https://jupyter-notebook.readthedocs.io/en/4.x/examples/Notebook/rstversions/Importing%20Notebooks.html\n",
    "https://www.linuxtut.com/en/d0f6e792b176d2613f9a/\n",
    "\n",
    "I also find that the developer of nbimporter does not recommed importing functions from other notebooks. It is hard to maintain and test functions.   \n",
    "https://github.com/grst/nbimporter\n",
    "\n",
    "Nevertheless, I still think it is useful to edit functions in the Notebook. So, the easies way may be to convert Jupyter Notebook into a normal python file, and load the python file. \n",
    "\n",
    "> jupyter nbconvert testnotebook.ipynb --to python\n",
    "\n",
    "A new file testnotebook.py would be created. \n",
    "\n",
    "**call own module**\n",
    "\n",
    "By default, Python will search the python module in the current folder and a list of folders. For example, \n",
    "> import yhc_module\n",
    "\n",
    "Pyhton will search **yhc_module.py** in the current folder. You can add a permanent path into the path by\n",
    "> import sys\n",
    "\n",
    "> sys.path  # see paths\n",
    "\n",
    "> sys.path.append(folder)\n",
    "\n",
    "> sys.path\n",
    "\n"
   ]
  },
  {
   "cell_type": "markdown",
   "id": "fbff7c6d",
   "metadata": {},
   "source": [
    "## Numeric operation on array\n",
    "\n",
    "Even though all elements are numeric values in a array, Python doesn't think it is a numeric array. As a result, I cannot do numerical operation in this array. I have to convert the array to a numpy array, so I can do numeric operation.\n",
    "\n",
    "**Xarray array computation**\n",
    "\n",
    "https://xarray.pydata.org/en/v2022.03.0/user-guide/computation.html\n",
    "\n",
    "**Numpy array nerical operations**\n",
    "\n",
    "https://scipy-lectures.org/intro/numpy/operations.html\n",
    "\n",
    "https://scipy-lectures.org/intro/numpy/operations.html"
   ]
  },
  {
   "cell_type": "code",
   "execution_count": 3,
   "id": "d5d059e2",
   "metadata": {},
   "outputs": [
    {
     "name": "stdout",
     "output_type": "stream",
     "text": [
      "<class 'list'>\n",
      "[100, 400, 818.6021, 1378.886, 2091.795, 2983.641, 4121.79, 5579.222, 6907.19, 7735.787, 8197.665, 8377.955, 8331.696, 8094.722, 7690.857, 7139.018, 6464.803, 5712.357, 4940.054, 4198.604, 3516.633, 2905.199, 2366.737, 1899.195, 1497.781, 1156.253, 867.792, 625.5933, 426.2132, 264.7661, 145.0665, 60, 15, 0, 0, 0, 0, 0, 0, 0, 0, 0, 0.00513, 0.01969, 0.04299, 0.07477, 0.11508, 0.16408, 0.22198, 0.28865, 0.36281, 0.44112, 0.51882, 0.59185, 0.6581, 0.71694, 0.76843, 0.81293, 0.851, 0.88331, 0.91055, 0.93331, 0.95214, 0.9675, 0.97968, 0.98908, 0.99575, 1]\n",
      "---------------\n",
      "<class 'numpy.ndarray'>\n",
      "[ 100.      400.      818.6021 1378.886  2091.795  2983.641  4121.79\n",
      " 5579.222  6907.703  7737.756  8201.964  8385.432  8343.204  8111.13\n",
      " 7713.055  7167.883  6501.084  5756.469  4991.936  4257.789  3582.443\n",
      " 2976.893  2443.58   1980.488  1582.881  1244.584   958.847   718.9243\n",
      "  521.4272  361.5161  243.0345  158.908   114.575   100.    ]\n",
      "---------------\n"
     ]
    }
   ],
   "source": [
    "import numpy as np\n",
    "\n",
    "pk_list = [100, 400, 818.6021, 1378.886, 2091.795, 2983.641, 4121.79, 5579.222, \n",
    "    6907.19, 7735.787, 8197.665, 8377.955, 8331.696, 8094.722, 7690.857, \n",
    "    7139.018, 6464.803, 5712.357, 4940.054, 4198.604, 3516.633, 2905.199, \n",
    "    2366.737, 1899.195, 1497.781, 1156.253, 867.792, 625.5933, 426.2132, \n",
    "    264.7661, 145.0665, 60, 15, 0]\n",
    "\n",
    "bk_list = [0, 0, 0, 0, 0, 0, 0, 0, 0.00513, 0.01969, 0.04299, 0.07477, 0.11508, \n",
    "    0.16408, 0.22198, 0.28865, 0.36281, 0.44112, 0.51882, 0.59185, 0.6581, \n",
    "    0.71694, 0.76843, 0.81293, 0.851, 0.88331, 0.91055, 0.93331, 0.95214, \n",
    "    0.9675, 0.97968, 0.98908, 0.99575, 1]\n",
    "\n",
    "#--- list + list\n",
    "print(type(pk_list))\n",
    "print(pk_list + bk_list)\n",
    "print(\"---------------\")\n",
    "\n",
    "#--- convert list to a numpy array and then do numerical operations\n",
    "pk = np.array(pk_list)\n",
    "bk = np.array(bk_list)\n",
    "\n",
    "print(type(pk))\n",
    "print(pk + bk*100.)\n",
    "print(\"---------------\")\n",
    "\n",
    "# if ps is a xarray data, convert it to numpy array\n",
    "#print(type(ps))\n",
    "#ps = np.array(data.ps[tt,jj,ii])\n",
    "#print(pk + bk*ps)\n",
    "#print(\"---------------\")"
   ]
  },
  {
   "cell_type": "markdown",
   "id": "e6f02c8b",
   "metadata": {},
   "source": [
    "## String\n",
    "\n",
    "Python String Methods - https://www.w3schools.com/PYTHON/python_ref_string.asp\n",
    "\n",
    "**References**:\n",
    "\n",
    "W3 schools - https://www.w3schools.com/PYTHON/python_strings.asp\n"
   ]
  },
  {
   "cell_type": "code",
   "execution_count": 4,
   "id": "96626393",
   "metadata": {},
   "outputs": [
    {
     "name": "stdout",
     "output_type": "stream",
     "text": [
      "\n",
      "A: yes you are right.\n",
      "B: Thanks\n",
      "\n",
      "---------\n",
      "I am ok \n",
      " good\n",
      "---------\n",
      "Yes, 'free' is present.\n",
      "No, 'expensive' is NOT present.\n"
     ]
    }
   ],
   "source": [
    "### assign a multiline string to a variable by using three double (or single) quotes\n",
    "a = \"\"\"\n",
    "A: yes you are right.\n",
    "B: Thanks\n",
    "\"\"\"\n",
    "print(a)\n",
    "\n",
    "### add a new line in a string (\\n)\n",
    "print(\"---------\")\n",
    "b = \"I am ok \\n good\"\n",
    "print(b)\n",
    "\n",
    "### check if a certain phrase or character is present in a strin\n",
    "print(\"---------\")\n",
    "txt = \"The best things in life are free!\"\n",
    "if \"free\" in txt:\n",
    "  print(\"Yes, 'free' is present.\")\n",
    "\n",
    "if \"expensive\" not in txt:\n",
    "  print(\"No, 'expensive' is NOT present.\")"
   ]
  },
  {
   "cell_type": "code",
   "execution_count": 5,
   "id": "0b8c530d",
   "metadata": {},
   "outputs": [
    {
     "name": "stdout",
     "output_type": "stream",
     "text": [
      "Californian_Sc, Peruvian_Sc, Namibian_Sc, DYCOMS\n",
      "Californian_Sc,, Peruvian_Sc,, Namibian_Sc,, DYCOMS\n"
     ]
    }
   ],
   "source": [
    "### merge list to a string, '$symbols'.join()\n",
    "#### https://www.w3schools.com/PYTHON/ref_string_join.asp\n",
    "\n",
    "region_list = [\"Californian_Sc\",\"Peruvian_Sc\",\"Namibian_Sc\",\"DYCOMS\"]\n",
    "print(', '.join(region_list))\n",
    "print(',, '.join(region_list))\n"
   ]
  },
  {
   "cell_type": "code",
   "execution_count": null,
   "id": "0d92d360",
   "metadata": {},
   "outputs": [],
   "source": []
  }
 ],
 "metadata": {
  "kernelspec": {
   "display_name": "Python 3",
   "language": "python",
   "name": "python3"
  },
  "language_info": {
   "codemirror_mode": {
    "name": "ipython",
    "version": 3
   },
   "file_extension": ".py",
   "mimetype": "text/x-python",
   "name": "python",
   "nbconvert_exporter": "python",
   "pygments_lexer": "ipython3",
   "version": "3.8.8"
  }
 },
 "nbformat": 4,
 "nbformat_minor": 5
}
