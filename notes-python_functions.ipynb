{
 "cells": [
  {
   "cell_type": "markdown",
   "id": "6d9870ca",
   "metadata": {},
   "source": [
    "# Notes - Python functions\n",
    "\n",
    "Some popular functions are noted"
   ]
  },
  {
   "cell_type": "markdown",
   "id": "81dcd3bf",
   "metadata": {},
   "source": [
    "## Modules\n",
    "\n",
    "**View module content**\n",
    "\n",
    "import yhc_module as yhc\n",
    "\n",
    "    help(yhc)          # see all functions and file path\n",
    "    help(yhc.func1)    # see func1 \n",
    "\n",
    "    dir(yhc)           # retun list of attributes and methods of an objecy\n",
    "\n",
    "\n",
    "**import Jupyter Notebooks as Modules**\n",
    "\n",
    "It is not straightforward to import Jupyter Notebook as Modules. I have found some ways on the internet, but they don't work in my Mac.\n",
    "\n",
    "https://jupyter-notebook.readthedocs.io/en/4.x/examples/Notebook/rstversions/Importing%20Notebooks.html\n",
    "https://www.linuxtut.com/en/d0f6e792b176d2613f9a/\n",
    "\n",
    "I also find that the developer of nbimporter does not recommed importing functions from other notebooks. It is hard to maintain and test functions.   \n",
    "https://github.com/grst/nbimporter\n",
    "\n",
    "Nevertheless, I still think it is useful to edit functions in the Notebook. So, the easies way may be to convert Jupyter Notebook into a normal python file, and load the python file. \n",
    "\n",
    "> jupyter nbconvert testnotebook.ipynb --to python\n",
    "\n",
    "A new file testnotebook.py would be created. \n"
   ]
  },
  {
   "cell_type": "markdown",
   "id": "e6f02c8b",
   "metadata": {},
   "source": [
    "## String\n",
    "\n",
    "Python String Methods - https://www.w3schools.com/PYTHON/python_ref_string.asp\n",
    "\n",
    "**References**:\n",
    "\n",
    "W3 schools - https://www.w3schools.com/PYTHON/python_strings.asp\n"
   ]
  },
  {
   "cell_type": "code",
   "execution_count": 1,
   "id": "96626393",
   "metadata": {},
   "outputs": [
    {
     "name": "stdout",
     "output_type": "stream",
     "text": [
      "\n",
      "A: yes you are right.\n",
      "B: Thanks\n",
      "\n",
      "---------\n",
      "I am ok \n",
      " good\n",
      "---------\n",
      "Yes, 'free' is present.\n",
      "No, 'expensive' is NOT present.\n"
     ]
    }
   ],
   "source": [
    "### assign a multiline string to a variable by using three double (or single) quotes\n",
    "a = \"\"\"\n",
    "A: yes you are right.\n",
    "B: Thanks\n",
    "\"\"\"\n",
    "print(a)\n",
    "\n",
    "### add a new line in a string (\\n)\n",
    "print(\"---------\")\n",
    "b = \"I am ok \\n good\"\n",
    "print(b)\n",
    "\n",
    "### check if a certain phrase or character is present in a strin\n",
    "print(\"---------\")\n",
    "txt = \"The best things in life are free!\"\n",
    "if \"free\" in txt:\n",
    "  print(\"Yes, 'free' is present.\")\n",
    "\n",
    "if \"expensive\" not in txt:\n",
    "  print(\"No, 'expensive' is NOT present.\")"
   ]
  },
  {
   "cell_type": "code",
   "execution_count": null,
   "id": "0b8c530d",
   "metadata": {},
   "outputs": [],
   "source": [
    "### merge list to a string, '$symbols'.join()\n",
    "#### https://www.w3schools.com/PYTHON/ref_string_join.asp\n",
    "\n",
    "region_list = [\"Californian_Sc\",\"Peruvian_Sc\",\"Namibian_Sc\",\"DYCOMS\"]\n",
    "print(', '.join(region_list))\n",
    "print(',, '.join(region_list))\n"
   ]
  },
  {
   "cell_type": "code",
   "execution_count": null,
   "id": "0d92d360",
   "metadata": {},
   "outputs": [],
   "source": []
  }
 ],
 "metadata": {
  "kernelspec": {
   "display_name": "Python 3",
   "language": "python",
   "name": "python3"
  },
  "language_info": {
   "codemirror_mode": {
    "name": "ipython",
    "version": 3
   },
   "file_extension": ".py",
   "mimetype": "text/x-python",
   "name": "python",
   "nbconvert_exporter": "python",
   "pygments_lexer": "ipython3",
   "version": "3.8.8"
  }
 },
 "nbformat": 4,
 "nbformat_minor": 5
}
