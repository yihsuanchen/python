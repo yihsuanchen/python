{
 "cells": [
  {
   "cell_type": "markdown",
   "id": "323157ca",
   "metadata": {},
   "source": [
    "# Program - chia_webinar_ads\n",
    "\n",
    "**Purpose**\n",
    "  Create an advertisement for a CHiA webinar\n",
    "\n",
    "**Usage**\n",
    "  use the function [chia_webinar_ads] to generate the advertisement\n",
    "\n",
    "**Author:** Yi-Hsuan Chen (yihsuan@umich.edu)\n",
    "\n",
    "**Date:** \n",
    "February 2024\n",
    "\n"
   ]
  },
  {
   "cell_type": "markdown",
   "id": "abf5000a-6e22-4580-b03f-88697696cd41",
   "metadata": {},
   "source": [
    "## function get_date_details"
   ]
  },
  {
   "cell_type": "code",
   "execution_count": 5,
   "id": "8341aaa9-0a9d-49c6-9741-182f05a9bc30",
   "metadata": {},
   "outputs": [],
   "source": [
    "from datetime import datetime\n",
    "\n",
    "def get_date_details(date_string):\n",
    "    # Convert the string to a datetime object\n",
    "    date_object = datetime.strptime(date_string, \"%Y-%m-%d-%I%p\")\n",
    "\n",
    "    # Extract month, day, day of the week, and hour with am/pm indicator\n",
    "    month = date_object.strftime(\"%B\")  # Full month name\n",
    "    day_num = date_object.day\n",
    "    day_suffix = \"th\" if 11 <= day_num <= 13 else {1: 'st', 2: 'nd', 3: 'rd'}.get(day_num % 10, 'th')\n",
    "    day = f\"{day_num}{day_suffix}\"\n",
    "    day_of_week = date_object.strftime(\"%A\")  # Full day name\n",
    "    hour = date_object.strftime(\"%I\")  # Hour in 12-hour format\n",
    "    am_pm = date_object.strftime(\"%p\").lower()  # am/pm indicator in lowercase\n",
    "\n",
    "    # Return the results as a tuple\n",
    "    return month, day, day_of_week, hour, am_pm\n",
    "\n",
    "# Example usage\n",
    "date_string = \"2024-02-21-12PM\"  # Example with hour and am/pm added\n",
    "\n",
    "# Example usage\n",
    "date_string = \"2024-02-21-12pm\"\n",
    "month, day, day_of_week, hour, am_pm = get_date_details(date_string)\n",
    "\n",
    "# Print the results\n",
    "#print(\"Month:\", month)\n",
    "#print(\"Date:\", day)\n",
    "#print(\"Day of the Week:\", day_of_week)\n",
    "#print(\"Hour:\", hour)\n",
    "#print(\"am/pm:\", am_pm)"
   ]
  },
  {
   "cell_type": "markdown",
   "id": "95c4d9b9-7388-4edb-9b21-787b97352ded",
   "metadata": {},
   "source": [
    "## function chia_webinar_ads"
   ]
  },
  {
   "cell_type": "code",
   "execution_count": 29,
   "id": "3b945409-c44f-4f49-8dc7-3723a98671e2",
   "metadata": {},
   "outputs": [],
   "source": [
    "def chia_webinar_ads(date_string, speaker, affiliation, title):\n",
    "\n",
    "    month, day, day_of_week, hour, am_pm = get_date_details(date_string)\n",
    "\n",
    "# Title: CHiA webinar {month} {day} ({day_of_week}) at {hour}{am_pm} Taiwan time - {speaker} ({affiliation})\n",
    "    \n",
    "    bold = \"\\u0332\"\n",
    "    \n",
    "    text = f\"\"\"\n",
    "CHiA webinar google drive folder: https://drive.google.com/drive/folders/1OIDsSKP001YzMM4l14rs-kvpSTBkog3U?usp=sharing\n",
    "email list: https://docs.google.com/spreadsheets/d/1iADmvTzMGTwiTYIOj4Rhpt1spif1GOVRtnXfUqIuqaE/edit?resourcekey#gid=1452196866\n",
    "\n",
    "Title: CHiA webinar {month} {day} ({day_of_week}) at {hour}{am_pm} Taiwan time - {speaker} ({affiliation})\n",
    "\n",
    "================\n",
    "Title: CHiA webinar {date_string}: {speaker}, {affiliation}\n",
    "\n",
    "Dear CHiA webinar subscribers, \n",
    "\n",
    "The next CHiA webinar (https://hydro.as.ntu.edu.tw/chia/webinar-series-2/) will take place on {month} {day} ({day_of_week}), at {hour}{am_pm} Taiwan time (GMT+8). {speaker} from {affiliation} will present the webinar entitled “{title}”; the full info of the webinar is at the end of the email. \n",
    "\n",
    "We will meet online via Zoom. The meeting link is https://us02web.zoom.us/j/84459516262?pwd=UTNyQm44WEM5MlFIN1IrMDZZWTI2dz09\n",
    "\n",
    "Meeting ID: 844 5951 6262\n",
    "Passcode: 181548\n",
    "\n",
    "If you don’t want to receive the email notification in the future, please let me know by replying to this email.  Please also let us know if you have any suggestions/comments about this webinar series. Thanks very much!\n",
    "\n",
    "Best,\n",
    "Yi-Hsuan, Min-Hui, Yu-Chiao, and Huang-Hsiung\n",
    "\n",
    "-----\n",
    "(full info)\n",
    "\n",
    "==================\n",
    "Title: Reminder: CHiA webinar...\n",
    "\n",
    "Dear CHiA webinar subscribers, \n",
    "\n",
    "Just a friendly reminder that {speaker}'s webinar will take place this coming {day_of_week} ({month} {day}), at {hour}{am_pm} Taiwan time (GMT+8). \n",
    "\n",
    "The meeting link is https://us02web.zoom.us/j/84459516262?pwd=UTNyQm44WEM5MlFIN1IrMDZZWTI2dz09\n",
    "Meeting ID: 844 5951 6262\n",
    "Passcode: 181548\n",
    "\n",
    "Hope to see you then, \n",
    "\n",
    "Yi-Hsuan, Min-Hui, Yu-Chiao, and Huang-Hsiung\n",
    "    \"\"\"\n",
    "    print(text)\n",
    "    \n",
    "    return\n",
    "\n",
    "date_string = \"2024-02-21-12PM\" \n",
    "speaker = \"Prof. A\"\n",
    "affiliation = \"Univerisity B\"\n",
    "title = \"XXXX\"\n",
    "\n",
    "#chia_webinar_ads(date_string, speaker, affiliation, title)\n"
   ]
  },
  {
   "cell_type": "markdown",
   "id": "4237400e-f451-4be6-975b-adafcb007619",
   "metadata": {},
   "source": [
    "## write ads"
   ]
  },
  {
   "cell_type": "code",
   "execution_count": 30,
   "id": "53bf5180-d6b0-46e0-a2b9-c62ccf04aada",
   "metadata": {},
   "outputs": [],
   "source": [
    "date_string = \"\" \n",
    "speaker = \"\"\n",
    "affiliation = \"\"\n",
    "title = \"\"\n",
    "\n",
    "#chia_webinar_ads(date_string, speaker, affiliation, title)"
   ]
  },
  {
   "cell_type": "code",
   "execution_count": 31,
   "id": "a2fca8c3-a4cc-453b-a6c6-ccd217dcd6ab",
   "metadata": {},
   "outputs": [
    {
     "name": "stdout",
     "output_type": "stream",
     "text": [
      "\n",
      "CHiA webinar google drive folder: https://drive.google.com/drive/folders/1OIDsSKP001YzMM4l14rs-kvpSTBkog3U?usp=sharing\n",
      "email list: https://docs.google.com/spreadsheets/d/1iADmvTzMGTwiTYIOj4Rhpt1spif1GOVRtnXfUqIuqaE/edit?resourcekey#gid=1452196866\n",
      "\n",
      "Title: CHiA webinar May 10th (Friday) at 12pm Taiwan time - Prof. Xiyue (Sally) Zhang (University of Nevada, Reno)\n",
      "\n",
      "================\n",
      "Title: CHiA webinar 2024-05-10-12PM: Prof. Xiyue (Sally) Zhang, University of Nevada, Reno\n",
      "\n",
      "Dear CHiA webinar subscribers, \n",
      "\n",
      "The next CHiA webinar (https://hydro.as.ntu.edu.tw/chia/webinar-series-2/) will take place on May 10th (Friday), at 12pm Taiwan time (GMT+8). Prof. Xiyue (Sally) Zhang from University of Nevada, Reno will present the webinar entitled “Global impacts of observed Southern Ocean warming and cooling trends since 1949”; the full info of the webinar is at the end of the email. \n",
      "\n",
      "We will meet online via Zoom. The meeting link is https://us02web.zoom.us/j/84459516262?pwd=UTNyQm44WEM5MlFIN1IrMDZZWTI2dz09\n",
      "\n",
      "Meeting ID: 844 5951 6262\n",
      "Passcode: 181548\n",
      "\n",
      "If you don’t want to receive the email notification in the future, please let me know by replying to this email.  Please also let us know if you have any suggestions/comments about this webinar series. Thanks very much!\n",
      "\n",
      "Best,\n",
      "Yi-Hsuan, Min-Hui, Yu-Chiao, and Huang-Hsiung\n",
      "\n",
      "-----\n",
      "(full info)\n",
      "\n",
      "==================\n",
      "Title: Reminder: CHiA webinar...\n",
      "\n",
      "Dear CHiA webinar subscribers, \n",
      "\n",
      "Just a friendly reminder that Prof. Xiyue (Sally) Zhang's webinar will take place this coming Friday (May 10th), at 12pm Taiwan time (GMT+8). \n",
      "\n",
      "The meeting link is https://us02web.zoom.us/j/84459516262?pwd=UTNyQm44WEM5MlFIN1IrMDZZWTI2dz09\n",
      "Meeting ID: 844 5951 6262\n",
      "Passcode: 181548\n",
      "\n",
      "Hope to see you then, \n",
      "\n",
      "Yi-Hsuan, Min-Hui, Yu-Chiao, and Huang-Hsiung\n",
      "    \n"
     ]
    }
   ],
   "source": [
    "date_string = \"2024-05-10-12PM\" \n",
    "speaker = \"Prof. Xiyue (Sally) Zhang\"\n",
    "affiliation = \"University of Nevada, Reno\"\n",
    "title = \"Global impacts of observed Southern Ocean warming and cooling trends since 1949\"\n",
    "\n",
    "chia_webinar_ads(date_string, speaker, affiliation, title)"
   ]
  },
  {
   "cell_type": "raw",
   "id": "b3688642-1a27-4d53-8501-6cf96af24bd5",
   "metadata": {},
   "source": [
    "date_string = \"2024-04-12-12PM\" \n",
    "speaker = \"Dr. Cheng-Hsiang Chih\"\n",
    "affiliation = \"National Taiwan University\"\n",
    "title = \"Assessing the Impact of Global Warming on Intense Tropical Cyclones over the Western North Pacific: A Dynamical Downscaling Approach\"\n",
    "\n",
    "chia_webinar_ads(date_string, speaker, affiliation, title)"
   ]
  },
  {
   "cell_type": "raw",
   "id": "946ee0f4-a81c-4768-aa70-22cc2f91d2b2",
   "metadata": {},
   "source": [
    "date_string = \"2024-03-01-12PM\" \n",
    "speaker = \"Prof. Takeshi Horinouchi\"\n",
    "affiliation = \"Hokkaido University\"\n",
    "title = \"Dynamical control of East Asian summertime synoptic precipitation and climate projection\"\n",
    "\n",
    "chia_webinar_ads(date_string, speaker, affiliation, title)"
   ]
  },
  {
   "cell_type": "code",
   "execution_count": null,
   "id": "d7941402-e74d-4be3-bd3a-34e506a08088",
   "metadata": {},
   "outputs": [],
   "source": []
  },
  {
   "cell_type": "code",
   "execution_count": null,
   "id": "a91d6cec-3a64-4651-a7ba-f85851846767",
   "metadata": {},
   "outputs": [],
   "source": []
  }
 ],
 "metadata": {
  "kernelspec": {
   "display_name": "Python 3 (ipykernel)",
   "language": "python",
   "name": "python3"
  },
  "language_info": {
   "codemirror_mode": {
    "name": "ipython",
    "version": 3
   },
   "file_extension": ".py",
   "mimetype": "text/x-python",
   "name": "python",
   "nbconvert_exporter": "python",
   "pygments_lexer": "ipython3",
   "version": "3.9.16"
  }
 },
 "nbformat": 4,
 "nbformat_minor": 5
}
