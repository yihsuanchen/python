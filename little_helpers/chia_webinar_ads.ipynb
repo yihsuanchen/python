{
 "cells": [
  {
   "cell_type": "markdown",
   "id": "323157ca",
   "metadata": {},
   "source": [
    "# Program - chia_webinar_ads\n",
    "\n",
    "**Purpose**\n",
    "  Create an advertisement for a CHiA webinar\n",
    "\n",
    "**Usage**\n",
    "  use the function [chia_webinar_ads] to generate the advertisement\n",
    "\n",
    "**Author:** Yi-Hsuan Chen (yihsuan@umich.edu)\n",
    "\n",
    "**Date:** \n",
    "February 2024\n",
    "\n"
   ]
  },
  {
   "cell_type": "markdown",
   "id": "abf5000a-6e22-4580-b03f-88697696cd41",
   "metadata": {},
   "source": [
    "## function get_date_details"
   ]
  },
  {
   "cell_type": "code",
   "execution_count": 1,
   "id": "8341aaa9-0a9d-49c6-9741-182f05a9bc30",
   "metadata": {},
   "outputs": [],
   "source": [
    "from datetime import datetime\n",
    "\n",
    "def get_date_details(date_string):\n",
    "    # Convert the string to a datetime object\n",
    "    date_object = datetime.strptime(date_string, \"%Y-%m-%d-%I%p\")\n",
    "\n",
    "    # Extract month, day, day of the week, and hour with am/pm indicator\n",
    "    month = date_object.strftime(\"%B\")  # Full month name\n",
    "    day_num = date_object.day\n",
    "    day_suffix = \"th\" if 11 <= day_num <= 13 else {1: 'st', 2: 'nd', 3: 'rd'}.get(day_num % 10, 'th')\n",
    "    day = f\"{day_num}{day_suffix}\"\n",
    "    day_of_week = date_object.strftime(\"%A\")  # Full day name\n",
    "    hour = date_object.strftime(\"%I\")  # Hour in 12-hour format\n",
    "    am_pm = date_object.strftime(\"%p\").lower()  # am/pm indicator in lowercase\n",
    "\n",
    "    # Return the results as a tuple\n",
    "    return month, day, day_of_week, hour, am_pm\n",
    "\n",
    "# Example usage\n",
    "date_string = \"2024-02-21-12PM\"  # Example with hour and am/pm added\n",
    "\n",
    "# Example usage\n",
    "date_string = \"2024-02-21-12pm\"\n",
    "month, day, day_of_week, hour, am_pm = get_date_details(date_string)\n",
    "\n",
    "# Print the results\n",
    "#print(\"Month:\", month)\n",
    "#print(\"Date:\", day)\n",
    "#print(\"Day of the Week:\", day_of_week)\n",
    "#print(\"Hour:\", hour)\n",
    "#print(\"am/pm:\", am_pm)"
   ]
  },
  {
   "cell_type": "markdown",
   "id": "95c4d9b9-7388-4edb-9b21-787b97352ded",
   "metadata": {},
   "source": [
    "## function chia_webinar_ads"
   ]
  },
  {
   "cell_type": "code",
   "execution_count": 6,
   "id": "3b945409-c44f-4f49-8dc7-3723a98671e2",
   "metadata": {},
   "outputs": [],
   "source": [
    "def chia_webinar_ads(date_string, speaker, affiliation, title):\n",
    "\n",
    "    month, day, day_of_week, hour, am_pm = get_date_details(date_string)\n",
    "\n",
    "    bold = \"\\u0332\"\n",
    "    \n",
    "    text = f\"\"\"\n",
    "================\n",
    "Title: CHiA webinar - {speaker} ({affiliation}), {month} {day} ({day_of_week}) at {hour}{am_pm} Taiwan time\n",
    "\n",
    "Dear CHiA webinar subscribers, \n",
    "\n",
    "The next CHiA webinar (https://hydro.as.ntu.edu.tw/chia/webinar-series-2/) will take place on {month} {day} ({day_of_week}), at {hour}{am_pm} Taiwan time (GMT+8). {speaker} from {affiliation} will present the webinar entitled “{title}”; the full info of the webinar is at the end of the email. \n",
    "\n",
    "We will meet online via Zoom. The meeting link is https://us02web.zoom.us/j/82101718699?pwd=RGZYekhYZEowb1pkRXAxNDVmZGlRdz09\n",
    "\n",
    "Meeting ID: 821 0171 8699\n",
    "Passcode: CHiA\n",
    "\n",
    "If you don’t want to receive the email notification in the future, please let me know by replying to this email.  Please also let us know if you have any suggestions/comments about this webinar series. Thanks very much!\n",
    "\n",
    "Best,\n",
    "Yi-Hsuan, Min-Hui, Yu-Chiao, and Huang-Hsiung\n",
    "\n",
    "-----\n",
    "(full info)\n",
    "\n",
    "==================\n",
    "Reminder\n",
    "\n",
    "Dear CHiA webinar subscribers, \n",
    "\n",
    "Just a friendly reminder that {speaker}'s webinar will take place this coming {day_of_week} ({month} {day}), at {hour}{am_pm} Taiwan time (GMT+8). \n",
    "\n",
    "The meeting link is https://us02web.zoom.us/j/82101718699?pwd=RGZYekhYZEowb1pkRXAxNDVmZGlRdz09\n",
    "Meeting ID: 821 0171 8699\n",
    "Passcode: CHiA\n",
    "\n",
    "Hope to see you then, \n",
    "\n",
    "Yi-Hsuan, Min-Hui, Yu-Chiao, and Huang-Hsiung\n",
    "    \"\"\"\n",
    "    print(text)\n",
    "    \n",
    "    return\n",
    "\n",
    "date_string = \"2024-02-21-12PM\" \n",
    "speaker = \"Prof. A\"\n",
    "affiliation = \"Univerisity B\"\n",
    "title = \"XXXX\"\n",
    "\n",
    "#chia_webinar_ads(date_string, speaker, affiliation, title)\n"
   ]
  },
  {
   "cell_type": "markdown",
   "id": "4237400e-f451-4be6-975b-adafcb007619",
   "metadata": {},
   "source": [
    "## write ads"
   ]
  },
  {
   "cell_type": "code",
   "execution_count": 7,
   "id": "265eb1b8",
   "metadata": {},
   "outputs": [
    {
     "name": "stdout",
     "output_type": "stream",
     "text": [
      "\n",
      "================\n",
      "Title: CHiA webinar - Prof. Takeshi Horinouchi (Hokkaido University), March 1st (Friday) at 12pm Taiwan time\n",
      "\n",
      "Dear CHiA webinar subscribers, \n",
      "\n",
      "The next CHiA webinar (https://hydro.as.ntu.edu.tw/chia/webinar-series-2/) will take place on March 1st (Friday), at 12pm Taiwan time (GMT+8). Prof. Takeshi Horinouchi from Hokkaido University will present the webinar entitled “Dynamical control of East Asian summertime synoptic precipitation and climate projection”; the full info of the webinar is at the end of the email. \n",
      "\n",
      "We will meet online via Zoom. The meeting link is https://us02web.zoom.us/j/82101718699?pwd=RGZYekhYZEowb1pkRXAxNDVmZGlRdz09\n",
      "\n",
      "Meeting ID: 821 0171 8699\n",
      "Passcode: CHiA\n",
      "\n",
      "If you don’t want to receive the email notification in the future, please let me know by replying to this email.  Please also let us know if you have any suggestions/comments about this webinar series. Thanks very much!\n",
      "\n",
      "Best,\n",
      "Yi-Hsuan, Min-Hui, Yu-Chiao, and Huang-Hsiung\n",
      "\n",
      "-----\n",
      "(full info)\n",
      "\n",
      "==================\n",
      "Reminder\n",
      "\n",
      "Dear CHiA webinar subscribers, \n",
      "\n",
      "Just a friendly reminder that Prof. Takeshi Horinouchi's webinar will take place this coming Friday (March 1st), at 12pm Taiwan time (GMT+8). \n",
      "\n",
      "The meeting link is https://us02web.zoom.us/j/82101718699?pwd=RGZYekhYZEowb1pkRXAxNDVmZGlRdz09\n",
      "Meeting ID: 821 0171 8699\n",
      "Passcode: CHiA\n",
      "\n",
      "Hope to see you then, \n",
      "\n",
      "Yi-Hsuan, Min-Hui, Yu-Chiao, and Huang-Hsiung\n",
      "    \n"
     ]
    }
   ],
   "source": [
    "date_string = \"2024-03-01-12PM\" \n",
    "speaker = \"Prof. Takeshi Horinouchi\"\n",
    "affiliation = \"Hokkaido University\"\n",
    "title = \"Dynamical control of East Asian summertime synoptic precipitation and climate projection\"\n",
    "\n",
    "chia_webinar_ads(date_string, speaker, affiliation, title)"
   ]
  },
  {
   "cell_type": "code",
   "execution_count": null,
   "id": "98b3e378-06b3-4a10-9d7a-d391b838e264",
   "metadata": {},
   "outputs": [],
   "source": []
  },
  {
   "cell_type": "code",
   "execution_count": null,
   "id": "d7941402-e74d-4be3-bd3a-34e506a08088",
   "metadata": {},
   "outputs": [],
   "source": []
  }
 ],
 "metadata": {
  "kernelspec": {
   "display_name": "Python 3 (ipykernel)",
   "language": "python",
   "name": "python3"
  },
  "language_info": {
   "codemirror_mode": {
    "name": "ipython",
    "version": 3
   },
   "file_extension": ".py",
   "mimetype": "text/x-python",
   "name": "python",
   "nbconvert_exporter": "python",
   "pygments_lexer": "ipython3",
   "version": "3.9.16"
  }
 },
 "nbformat": 4,
 "nbformat_minor": 5
}
