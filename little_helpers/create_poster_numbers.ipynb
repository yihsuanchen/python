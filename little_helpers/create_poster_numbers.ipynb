{
 "cells": [
  {
   "cell_type": "markdown",
   "id": "323157ca",
   "metadata": {},
   "source": [
    "# Program - Create poster numbers \n",
    "\n",
    "**Purpose**\n",
    "\n",
    "\n",
    "**Content**\n",
    "- read data\n",
    "- plot XY profiles\n",
    "\n",
    "**Author:** Yi-Hsuan Chen (yihsuan@umich.edu)\n",
    "\n",
    "**Date:** \n",
    "\n",
    "**Reference program:**\n",
    "\n"
   ]
  },
  {
   "cell_type": "code",
   "execution_count": 27,
   "id": "2ebadecb",
   "metadata": {},
   "outputs": [
    {
     "data": {
      "text/plain": [
       "<xarray.core.options.set_options at 0x7f96eb323dc0>"
      ]
     },
     "execution_count": 27,
     "metadata": {},
     "output_type": "execute_result"
    }
   ],
   "source": [
    "import cartopy.crs as ccrs\n",
    "import cartopy.feature as cfeature\n",
    "import matplotlib.pyplot as plt\n",
    "import numpy as np\n",
    "import xarray as xr\n",
    "import io, os, sys, types\n",
    "\n",
    "#import yhc_module as yhc\n",
    "\n",
    "xr.set_options(keep_attrs=True)  # keep attributes after xarray operation"
   ]
  },
  {
   "cell_type": "code",
   "execution_count": 28,
   "id": "be6465a6-8941-4719-b8b1-0a9184967e10",
   "metadata": {},
   "outputs": [
    {
     "name": "stdout",
     "output_type": "stream",
     "text": [
      "B01-D1\n",
      "B04-D1\n",
      "B07-D1\n",
      "B10-D1\n",
      "B13-D1\n",
      "B16-D1\n",
      "B19-D1\n",
      "B22-D1\n",
      "B25-D1\n",
      "B28-D1\n",
      "B31-D1\n",
      "B34-D1\n",
      "B37-D1\n",
      "B40-D1\n",
      "B43-D1\n",
      "B02-D2\n",
      "B05-D2\n",
      "B08-D2\n",
      "B11-D2\n",
      "B14-D2\n",
      "B17-D2\n",
      "B20-D2\n",
      "B23-D2\n",
      "B26-D2\n",
      "B29-D2\n",
      "B32-D2\n",
      "B35-D2\n",
      "B38-D2\n",
      "B41-D2\n",
      "B44-D2\n",
      "B03-D3\n",
      "B06-D3\n",
      "B09-D3\n",
      "B12-D3\n",
      "B15-D3\n",
      "B18-D3\n",
      "B21-D3\n",
      "B24-D3\n",
      "B27-D3\n",
      "B30-D3\n",
      "B33-D3\n",
      "B36-D3\n",
      "B39-D3\n",
      "B42-D3\n",
      "B45-D3\n"
     ]
    }
   ],
   "source": [
    "pmax = 46\n",
    "\n",
    "tt = np.arange(1, pmax,1)\n",
    "t1 = np.arange(1,pmax,3)\n",
    "t2 = np.arange(2,pmax,3)\n",
    "t3 = np.arange(3,pmax,3)\n",
    "\n",
    "merged_array = np.concatenate((t1, t2, t3))\n",
    "merged_list = merged_array.tolist()\n",
    "\n",
    "#print(merged_list)\n",
    "\n",
    "for t in merged_list:\n",
    "#for t in [t1,t2,t3]:\n",
    "    if t in t1:\n",
    "        day=\"D1\"\n",
    "    elif t in t2:\n",
    "        day=\"D2\"        \n",
    "    elif t in t3:\n",
    "        day=\"D3\"\n",
    "\n",
    "    text = f\"B{t:02}-{day}\"\n",
    "    print(text)\n",
    "\n",
    "    "
   ]
  },
  {
   "cell_type": "code",
   "execution_count": null,
   "id": "ac7b2fd4-f271-4f69-b9b4-7e4f824e8ec8",
   "metadata": {},
   "outputs": [],
   "source": []
  }
 ],
 "metadata": {
  "kernelspec": {
   "display_name": "Python 3 (ipykernel)",
   "language": "python",
   "name": "python3"
  },
  "language_info": {
   "codemirror_mode": {
    "name": "ipython",
    "version": 3
   },
   "file_extension": ".py",
   "mimetype": "text/x-python",
   "name": "python",
   "nbconvert_exporter": "python",
   "pygments_lexer": "ipython3",
   "version": "3.9.18"
  }
 },
 "nbformat": 4,
 "nbformat_minor": 5
}
