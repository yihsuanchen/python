{
 "cells": [
  {
   "cell_type": "markdown",
   "id": "c75a6c94",
   "metadata": {},
   "source": [
    "# Yi-Hsuan Chen's Python module\n",
    "\n",
    "**import yhc_module as yhc**\n",
    "\n",
    "**available functions**\n",
    "1. unit_conversion"
   ]
  },
  {
   "cell_type": "code",
   "execution_count": 2,
   "id": "2ff19552",
   "metadata": {},
   "outputs": [],
   "source": [
    "def unit_conversion (var, unit_in, unit_out):\n",
    "    \"\"\"\n",
    "    convert unit of a variable\n",
    "    \n",
    "    Input argument:\n",
    "        var      : (xarray.DataArray): a variable\n",
    "        unit_in  : original units of the var\n",
    "        units_out: new units of the var        \n",
    "    \"\"\"\n",
    "    \n",
    "    # constants \n",
    "    rho_water = 1000.  # water density [kg/m3]\n",
    "    latent_heat_evap = 2.5e+6          # latent heat of vaporization for water, J/kg  \n",
    "    latent_heat_cond = 1./latent_heat_evap  # latent heat of vaporization for water, J/kg\n",
    "    hr2sec = 1800.    # hour in seconds\n",
    "    day2sec = 86400.  # day in seconds\n",
    "\n",
    "    # conversion dictionary\n",
    "    conversion = {'m':1.0, 'mm':0.001, 'cm':0.01, 'km':1000.,\n",
    "                  'm/s':1.0, 'mm/day':1./(1000.*day2sec), 'kg/m2/s':1./rho_water, 'W/m2':1./latent_heat_evap/rho_water,\n",
    "                  'kg/kg':1.0, 'g/kg':1.e-3,\n",
    "                  'fraction':1., \"percent\":0.01, \"%\":0.01,\n",
    "                  'K/s':1., 'K/day':1./day2sec, \n",
    "                  'kg/kg/s':1., 'g/kg/hour': rho_water/hr2sec, \n",
    "                  'Pa/s':1., 'hPa/day': day2sec/100., \n",
    "                  'kg/m2':1., 'g/m2':1.e-3,\n",
    "                  '1/s':1., '1/hour': 1./hr2sec, \n",
    "                  'Pa':1.0, 'hPa':100., \"mb\":100., \n",
    "                 }\n",
    "\n",
    "    #print(var)\n",
    "    if hasattr(var, 'units'):\n",
    "        var.units = unit_out\n",
    "    #else:\n",
    "    #    setattr(var,\"units\",unit_out)\n",
    "        \n",
    "    var = var * conversion[unit_in] / conversion[unit_out]\n",
    "    return var; "
   ]
  },
  {
   "cell_type": "code",
   "execution_count": null,
   "id": "775c2702",
   "metadata": {},
   "outputs": [],
   "source": []
  }
 ],
 "metadata": {
  "kernelspec": {
   "display_name": "Python 3",
   "language": "python",
   "name": "python3"
  },
  "language_info": {
   "codemirror_mode": {
    "name": "ipython",
    "version": 3
   },
   "file_extension": ".py",
   "mimetype": "text/x-python",
   "name": "python",
   "nbconvert_exporter": "python",
   "pygments_lexer": "ipython3",
   "version": "3.8.8"
  }
 },
 "nbformat": 4,
 "nbformat_minor": 5
}
