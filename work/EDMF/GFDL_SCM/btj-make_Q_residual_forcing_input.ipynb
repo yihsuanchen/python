{
 "cells": [
  {
   "cell_type": "markdown",
   "metadata": {},
   "source": [
    "### Calculate Q as residual\n",
    "#### Calculate each term in the thermodynamics equation (unit:K/s)\n",
    "#### for NCEP-NCAR Reanalysis (update:2018/11/26)"
   ]
  },
  {
   "cell_type": "code",
   "execution_count": 1,
   "metadata": {},
   "outputs": [],
   "source": [
    "import netCDF4 as nc\n",
    "import numpy as np\n",
    "import xarray as xr\n",
    "import pandas as pd\n",
    "import xesmf as xe\n",
    "import xgcm\n",
    "\n",
    "import matplotlib.pyplot as plt\n",
    "import matplotlib.ticker as mticker\n",
    "\n",
    "from cartopy import config\n",
    "from cartopy.mpl.gridliner import LONGITUDE_FORMATTER, LATITUDE_FORMATTER\n",
    "from cartopy.mpl.ticker import LongitudeFormatter, LatitudeFormatter\n",
    "import cartopy.feature as cfeature\n",
    "import cartopy.crs as ccrs   #cartopy projection tool"
   ]
  },
  {
   "cell_type": "markdown",
   "metadata": {},
   "source": [
    "### 1. Define derivative"
   ]
  },
  {
   "cell_type": "code",
   "execution_count": 2,
   "metadata": {},
   "outputs": [],
   "source": [
    "def grid_setup(ds,pergrid):\n",
    "\n",
    "    dlon = ds.lon[1] - ds.lon[0]; dlat = ds.lat[1] - ds.lat[0]\n",
    "    lonh = ds.lon + dlon/2.0; lath = ds.lat + dlat/2.0\n",
    "    if 'lon' in pergrid:\n",
    "        ds['lonh'] = ('lonh',lonh) \n",
    "    else:\n",
    "        ds['lonh'] = ('lonh',np.concatenate(([lonh.values[0]-dlon],lonh.values))) \n",
    "    ds['lath'] = ('lath',np.concatenate(([lath.values[0]-dlat],lath.values)))\n",
    "\n",
    "def divergence(ds, u, v, periodic = ['lon']):\n",
    "    \n",
    "    if 'lon' in periodic:\n",
    "        grid = xgcm.Grid(ds, coords={'lon': {'center': 'lon', 'right': 'lonh'},\\\n",
    "                                     'lat': {'center': 'lat', 'outer': 'lath'}}, periodic=True)\n",
    "    else:\n",
    "        grid = xgcm.Grid(ds, coords={'lon': {'center': 'lon', 'outer': 'lonh'},\\\n",
    "                                     'lat': {'center': 'lat', 'outer': 'lath'}}, periodic=False)\n",
    "\n",
    "    dlon = ds.lon[1]-ds.lon[0]; dlat = ds.lat[1]-ds.lat[0]\n",
    "\n",
    "    coslat = np.cos(np.deg2rad(ds.lat))\n",
    "    coslath = np.cos(np.deg2rad(ds.lath))\n",
    "    meterPdegree = 111000.0\n",
    "\n",
    "    dlonm = dlon*meterPdegree; dlatm = dlat*meterPdegree\n",
    "\n",
    "    # interpolate the quantities to edge of trapezoid and then compute derivatives\n",
    "\n",
    "    uh = grid.interp(u,axis='lon',boundary='extend')\n",
    "    vh = grid.interp(v,axis='lat',boundary='extend')\n",
    "    dvdy = grid.diff(coslath*vh,axis='lat',boundary='extend')/dlatm  \n",
    "    dudx = grid.diff(uh,axis='lon',boundary='extend')/dlonm\n",
    "    return (dudx + dvdy)/coslat"
   ]
  },
  {
   "cell_type": "markdown",
   "metadata": {},
   "source": [
    "### 2. Read-in Temperature + Temperature gradient"
   ]
  },
  {
   "cell_type": "code",
   "execution_count": 3,
   "metadata": {},
   "outputs": [],
   "source": [
    "ingridsnippet = \"\"\" \n",
    "  SOURCES .NOAA .NCEP-NCAR .CDAS-1 .MONTHLY .Intrinsic .PressureLevel .temp\n",
    "  T (Jan/ 1950) (Feb/ 2018) RANGEEDGES\n",
    "  Y (90S) (90N) RANGEEDGES\n",
    "  P (10) (1000) RANGEEDGES\n",
    "  \"\"\"\n",
    "snip = ' '.join(ingridsnippet.split()).replace('/ ','%20').replace('(','%28').replace(')','%29').replace('[','%5B').replace(']','%5D').replace(' ','/')\n",
    "tt_url = 'https://iridl.ldeo.columbia.edu/'+snip+'/dods'"
   ]
  },
  {
   "cell_type": "code",
   "execution_count": 4,
   "metadata": {},
   "outputs": [],
   "source": [
    "# Temperature\n",
    "tin = xr.open_dataset(tt_url,decode_times=False)\n",
    "tin['T']=pd.date_range('1/1/1950', periods=tin.temp.shape[0], freq='M')\n",
    "tin = tin.rename({'T':'time','X':'lon','Y':'lat'})\n",
    "grid_setup(tin,['lon'])\n",
    "tt=tin.temp"
   ]
  },
  {
   "cell_type": "code",
   "execution_count": 5,
   "metadata": {},
   "outputs": [],
   "source": [
    "nt = tin.temp.shape[0]; yr = int(nt/12)\n",
    "nz = tin.temp.shape[1]\n",
    "ny = tin.temp.shape[2]\n",
    "nx = tin.temp.shape[3]"
   ]
  },
  {
   "cell_type": "code",
   "execution_count": 6,
   "metadata": {},
   "outputs": [
    {
     "data": {
      "text/plain": [
       "7"
      ]
     },
     "execution_count": 6,
     "metadata": {},
     "output_type": "execute_result"
    }
   ],
   "source": [
    "### dT/dx\n",
    "tt_extend = xr.concat([tt[:,:,:,-1], tt, tt[:,:,:,0]],'lon')\n",
    "lon_extend = xr.concat([tt.lon[0]-2.5, tt.lon, tt.lon[-1]+2.5],'lon')\n",
    "\n",
    "coslat = np.cos(np.deg2rad(tt.lat))\n",
    "dTx = tt_extend.diff('lon').rolling(lon=2).mean().shift(lon=-1)\n",
    "dx = coslat*111000*lon_extend.diff('lon').rolling(lon=2).mean().shift(lon=-1)\n",
    "dTdx = dTx[:,:,:,0:-1]/dx[:,0:-1]\n",
    "\n",
    "del tt_extend, lon_extend\n",
    "import gc\n",
    "gc.collect()"
   ]
  },
  {
   "cell_type": "code",
   "execution_count": 7,
   "metadata": {},
   "outputs": [],
   "source": [
    "### dT/dy\n",
    "#coslath = np.cos(np.deg2rad(tin.lath))\n",
    "dTy = tt.diff('lat').rolling(lat=2).mean().shift(lat=-1)\n",
    "dy = 111000*tt.lat.diff('lat').rolling(lat=2).mean().shift(lat=-1)"
   ]
  },
  {
   "cell_type": "code",
   "execution_count": 8,
   "metadata": {},
   "outputs": [],
   "source": [
    "dTdy_temp = np.zeros(shape=(nt,nz,ny,nx))\n",
    "dTdy_temp[:,:,1:,:] = dTy/dy\n",
    "dTdy_temp[:,:,-1,:] = 0\n",
    "\n",
    "dTdy = xr.DataArray(dTdy_temp, dims=['time','P','lat','lon'], coords={'time':tin.time, 'P':tin.P, 'lat':tin.lat, 'lon':tin.lon},)\n",
    "del dTdy_temp"
   ]
  },
  {
   "cell_type": "markdown",
   "metadata": {},
   "source": [
    "### 3. Read-in Wind"
   ]
  },
  {
   "cell_type": "code",
   "execution_count": 9,
   "metadata": {},
   "outputs": [],
   "source": [
    "# Wind\n",
    "uu_url = tt_url.replace('temp','u'); uin = xr.open_dataset(uu_url,decode_times=False)\n",
    "uin['T']=pd.date_range('1/1/1950', periods=uin.u.shape[0], freq='M');  \n",
    "uin = uin.rename({'T':'time','X':'lon','Y':'lat'})\n",
    "uu = uin.u\n",
    "\n",
    "vv_url = tt_url.replace('temp','v'); vin = xr.open_dataset(vv_url,decode_times=False)\n",
    "vin['T']=pd.date_range('1/1/1950', periods=vin.v.shape[0], freq='M'); \n",
    "vin = vin.rename({'T':'time','X':'lon','Y':'lat'})\n",
    "vv = vin.v"
   ]
  },
  {
   "cell_type": "code",
   "execution_count": 10,
   "metadata": {},
   "outputs": [],
   "source": [
    "### Temperature Advecation\n",
    "udTdx = uu*dTdx\n",
    "vdTdy = vv*dTdy"
   ]
  },
  {
   "cell_type": "markdown",
   "metadata": {},
   "source": [
    "### 4. Temperature Tendency"
   ]
  },
  {
   "cell_type": "code",
   "execution_count": 11,
   "metadata": {},
   "outputs": [],
   "source": [
    "dTt = tt.diff('time').rolling(time=2).mean().shift(time=-1)/(30*86500)\n",
    "\n",
    "dTdt_temp = np.zeros(shape=(nt,nz,ny,nx))\n",
    "dTdt_temp[1:] = dTt\n",
    "\n",
    "dTdt = xr.DataArray(dTdt_temp, dims=['time','P','lat','lon'], coords={'time':tin.time, 'P':tin.P, 'lat':tin.lat, 'lon':tin.lon},)\n",
    "del dTdt_temp"
   ]
  },
  {
   "cell_type": "markdown",
   "metadata": {},
   "source": [
    "### 5. Horizontal covariance"
   ]
  },
  {
   "cell_type": "code",
   "execution_count": 12,
   "metadata": {},
   "outputs": [],
   "source": [
    "uT_url = tt_url.replace('temp','CBTZW'); \n",
    "vT_url = tt_url.replace('temp','CBTMW');\n",
    "\n",
    "ds = xr.open_dataset(uT_url,decode_times=False)\n",
    "ds['CBTMW'] = xr.open_dataset(vT_url,decode_times=False).CBTMW\n",
    "\n",
    "ds['T']=pd.date_range('1/1/1950', periods=ds.CBTZW.shape[0], freq='M'); \n",
    "ds = ds.rename({'T':'time','X':'lon','Y':'lat'})\n",
    "grid_setup(ds,['lon'])"
   ]
  },
  {
   "cell_type": "code",
   "execution_count": 13,
   "metadata": {},
   "outputs": [],
   "source": [
    "### Divergence of transient temperature flux\n",
    "div_temp_flux = divergence(ds, ds.CBTZW, ds.CBTMW)\n",
    "div_temp_flux[:,:,0] = 0\n",
    "div_temp_flux[:,:,-1] = 0"
   ]
  },
  {
   "cell_type": "markdown",
   "metadata": {},
   "source": [
    "### 6. Vertical advection"
   ]
  },
  {
   "cell_type": "code",
   "execution_count": 14,
   "metadata": {},
   "outputs": [],
   "source": [
    "## Vertical velocity term only up to 100hPa\n",
    "ww_url = tt_url.replace('temp','vvel'); win = xr.open_dataset(ww_url,decode_times=False)\n",
    "win['T']=pd.date_range('1/1/1950', periods=win.vvel.shape[0], freq='M'); wwt = win.vvel\n",
    "\n",
    "wT_url = tt_url.replace('temp','CBTW'); wTin = xr.open_dataset(wT_url,decode_times=False)\n",
    "wTin['T']=pd.date_range('1/1/1950', periods=wTin.CBTW.shape[0], freq='M'); wTt = wTin.CBTW\n",
    "\n",
    "nz1 = wwt.shape[1]\n",
    "ww = np.zeros(shape=(nt,nz,ny,nx)); ww[:,nz-nz1-1:-1]=np.array(wwt)\n",
    "wT = np.zeros(shape=(nt,nz,ny,nx)); wT[:,nz-nz1-1:-1]=np.array(wTt)"
   ]
  },
  {
   "cell_type": "code",
   "execution_count": 15,
   "metadata": {},
   "outputs": [],
   "source": [
    "P = tin.P\n",
    "\n",
    "dp = np.zeros(shape=(nz,ny,nx))\n",
    "pp = np.zeros(shape=(nz,ny,nx))\n",
    "for x in range (0,nx):\n",
    "    for y in range(0,ny):\n",
    "        dp[1:nz,y,x] = (np.array(P[0:-1])-np.array(P[1:nz]))*100\n",
    "        pp[:,y,x] = P"
   ]
  },
  {
   "cell_type": "code",
   "execution_count": 16,
   "metadata": {},
   "outputs": [],
   "source": [
    "## use potential temperature to calculate vertical temp advection\n",
    "theta = np.zeros(shape=(nt,nz,ny,nx))\n",
    "theta = tt*(1000/pp)**(287/1004)\n",
    "\n",
    "wtheta = np.zeros(shape=(nt,nz,ny,nx))\n",
    "wtheta = tt*(1000/pp)**(287/1004)"
   ]
  },
  {
   "cell_type": "code",
   "execution_count": 17,
   "metadata": {},
   "outputs": [],
   "source": [
    "wdTdp_temp = np.zeros(shape=(nt,nz,ny,nx))\n",
    "dwTdp_temp = np.zeros(shape=(nt,nz,ny,nx))\n",
    "\n",
    "for z in range(0,nz-1):\n",
    "    wdTdp_temp[:,z]=(ww[:,z]*(theta[:,z]-theta[:,z+1])/dp[z+1])*(pp[z+1]/1000)**(287/1004)\n",
    "    #dwTdp_temp[:,z]=(wT[:,z]-wT[:,z+1])/dp[z+1]\n",
    "    dwTdp_temp[:,z]=((wT[:,z]-wT[:,z+1])/dp[z+1])*(pp[z+1]/1000)**(287/1004)"
   ]
  },
  {
   "cell_type": "code",
   "execution_count": 18,
   "metadata": {},
   "outputs": [],
   "source": [
    "wdTdp = xr.DataArray(wdTdp_temp, dims=['time','P','lat','lon'], coords={'time':tin.time, 'P':tin.P, 'lat':tin.lat, 'lon':tin.lon},)\n",
    "dwTdp = xr.DataArray(dwTdp_temp, dims=['time','P','lat','lon'], coords={'time':tin.time, 'P':tin.P, 'lat':tin.lat, 'lon':tin.lon},)\n",
    "\n",
    "del wdTdp_temp, dwTdp_temp"
   ]
  },
  {
   "cell_type": "markdown",
   "metadata": {},
   "source": [
    "### 7. Diabatic heating"
   ]
  },
  {
   "cell_type": "code",
   "execution_count": 19,
   "metadata": {},
   "outputs": [],
   "source": [
    "Q_original = dTdt+udTdx+vdTdy+wdTdp+div_temp_flux+dwTdp\n",
    "Q_transient = dTdt+udTdx+vdTdy+wdTdp"
   ]
  },
  {
   "cell_type": "code",
   "execution_count": 20,
   "metadata": {},
   "outputs": [],
   "source": [
    "### 3-month runningAverage\n",
    "Q_orig_3mo = Q_original[0:806].rolling(time=3).mean().shift(time=-2)\n",
    "Q_orig_clim = Q_orig_3mo[0:804].groupby('time.month').mean('time')\n",
    "\n",
    "Q_tran_3mo = Q_transient[0:806].rolling(time=3).mean().shift(time=-2)\n",
    "Q_tran_clim = Q_tran_3mo[0:804].groupby('time.month').mean('time')"
   ]
  },
  {
   "cell_type": "markdown",
   "metadata": {},
   "source": [
    "### 8. output 3-month avg 1950 JFM - 2016/17 DJF"
   ]
  },
  {
   "cell_type": "code",
   "execution_count": 146,
   "metadata": {},
   "outputs": [],
   "source": [
    "from netCDF4 import Dataset\n",
    "#Q3_data = Dataset('Q_NCEP-NCAR_residual_3mo_avg_1950_2017.nc','w',format='NETCDF4_CLASSIC')\n",
    "Q3_data = Dataset('Q_NCEP-NCAR_residual+transient_3mo_avg_1950_2017.nc','w',format='NETCDF4_CLASSIC')"
   ]
  },
  {
   "cell_type": "code",
   "execution_count": 147,
   "metadata": {},
   "outputs": [],
   "source": [
    "pre = Q3_data.createDimension('pre',nz)\n",
    "lat = Q3_data.createDimension('lat',ny)\n",
    "lon = Q3_data.createDimension('lon',nx)\n",
    "time = Q3_data.createDimension('month', 12*(yr-1))\n",
    "\n",
    "month = Q3_data.createVariable('month', np.float32, 'month') \n",
    "level = Q3_data.createVariable('pre', np.float32, 'pre') \n",
    "latitude = Q3_data.createVariable('lat', np.float32,'lat')\n",
    "longitude = Q3_data.createVariable('lon', np.float32,'lon')"
   ]
  },
  {
   "cell_type": "code",
   "execution_count": 148,
   "metadata": {},
   "outputs": [],
   "source": [
    "level[:] = P\n",
    "latitude[:] = tt.lat\n",
    "longitude[:] = tt.lon"
   ]
  },
  {
   "cell_type": "code",
   "execution_count": 149,
   "metadata": {},
   "outputs": [],
   "source": [
    "qout = Q3_data.createVariable('q',np.float32,('month','pre','lat','lon'))"
   ]
  },
  {
   "cell_type": "code",
   "execution_count": 150,
   "metadata": {},
   "outputs": [],
   "source": [
    "#qout[:,:,:,:] = Q_orig_3mo[0:804]\n",
    "qout[:,:,:,:] = Q_tran_3mo[0:804]"
   ]
  },
  {
   "cell_type": "code",
   "execution_count": 151,
   "metadata": {},
   "outputs": [],
   "source": [
    "Q3_data.close()"
   ]
  },
  {
   "cell_type": "markdown",
   "metadata": {},
   "source": [
    "### 9. output Climatology JJA/DJF for model"
   ]
  },
  {
   "cell_type": "code",
   "execution_count": 152,
   "metadata": {},
   "outputs": [
    {
     "name": "stdout",
     "output_type": "stream",
     "text": [
      "<xarray.Dataset>\n",
      "Dimensions:   (T: 12, X: 144, Y: 73)\n",
      "Coordinates:\n",
      "  * T         (T) datetime64[ns] 1950-01-31 1950-02-28 1950-03-31 1950-04-30 ...\n",
      "  * Y         (Y) float32 -90.0 -87.5 -85.0 -82.5 -80.0 -77.5 -75.0 -72.5 ...\n",
      "  * X         (X) float32 0.0 2.5 5.0 7.5 10.0 12.5 15.0 17.5 20.0 22.5 25.0 ...\n",
      "Data variables:\n",
      "    pressure  (T, Y, X) float32 ...\n",
      "Attributes:\n",
      "    Conventions:  IRIDL\n"
     ]
    }
   ],
   "source": [
    "### Read-in Ps for input data for stationary wave model\n",
    "ingridsnippet = \"\"\" \n",
    "  SOURCES .NOAA .NCEP-NCAR .CDAS-1 .MONTHLY .Intrinsic .surface .pressure\n",
    "  T (Jan/ 1950) (Feb/ 2018) RANGEEDGES\n",
    "  Y (90S) (90N) RANGEEDGES\n",
    "  T 3 runningAverage\n",
    "  yearly-climatology\n",
    "  \"\"\"\n",
    "snip = ' '.join(ingridsnippet.split()).replace('/ ','%20').replace('(','%28').replace(')','%29').replace('[','%5B').replace(']','%5D').replace(' ','/')\n",
    "nc_url = 'https://iridl.ldeo.columbia.edu/'+snip+'/dods'\n",
    "\n",
    "psin = xr.open_dataset(nc_url,decode_times=False)\n",
    "psin['T']=pd.date_range('1/1/1950', periods=12, freq='M'); print(psin)\n",
    "ps = psin.pressure"
   ]
  },
  {
   "cell_type": "code",
   "execution_count": 193,
   "metadata": {},
   "outputs": [],
   "source": [
    "mout = 11\n",
    "#outputname = './Q_input_NCEP-NCAR_JJA.nc'\n",
    "outputname = './Q_tran_input_NCEP-NCAR_DJF.nc'"
   ]
  },
  {
   "cell_type": "code",
   "execution_count": 194,
   "metadata": {},
   "outputs": [],
   "source": [
    "from netCDF4 import Dataset\n",
    "Q_data = Dataset(outputname,'w',format='NETCDF4_CLASSIC')"
   ]
  },
  {
   "cell_type": "code",
   "execution_count": 195,
   "metadata": {},
   "outputs": [],
   "source": [
    "pre = Q_data.createDimension('pre',nz)\n",
    "lat = Q_data.createDimension('lat',ny)\n",
    "lon = Q_data.createDimension('lon',nx)\n",
    "day = Q_data.createDimension('day', 1)\n",
    "\n",
    "day = Q_data.createVariable('day', np.float32, 'day') \n",
    "level = Q_data.createVariable('pre', np.float32, 'pre') \n",
    "latitude = Q_data.createVariable('lat', np.float32,'lat')\n",
    "longitude = Q_data.createVariable('lon', np.float32,'lon')"
   ]
  },
  {
   "cell_type": "code",
   "execution_count": 196,
   "metadata": {},
   "outputs": [],
   "source": [
    "level[:] = P\n",
    "latitude[:] = tt.lat\n",
    "longitude[:] = tt.lon"
   ]
  },
  {
   "cell_type": "code",
   "execution_count": 197,
   "metadata": {},
   "outputs": [],
   "source": [
    "fout = Q_data.createVariable('q',np.float32,('day','pre','lat','lon'))\n",
    "pout = Q_data.createVariable('ps',np.float32,('day','lat','lon'))"
   ]
  },
  {
   "cell_type": "code",
   "execution_count": 198,
   "metadata": {},
   "outputs": [],
   "source": [
    "#fout[:,:,:,:] = Q_orig_clim[mout]\n",
    "fout[:,:,:,:] = Q_tran_clim[mout]\n",
    "pout[:,:,:] = ps[mout]"
   ]
  },
  {
   "cell_type": "code",
   "execution_count": 199,
   "metadata": {},
   "outputs": [],
   "source": [
    "Q_data.close()"
   ]
  },
  {
   "cell_type": "code",
   "execution_count": null,
   "metadata": {},
   "outputs": [],
   "source": []
  },
  {
   "cell_type": "code",
   "execution_count": null,
   "metadata": {},
   "outputs": [],
   "source": []
  },
  {
   "cell_type": "code",
   "execution_count": 202,
   "metadata": {},
   "outputs": [],
   "source": [
    "qin = xr.open_dataset('./Q_input_NCEP-NCAR_DJF.nc')"
   ]
  },
  {
   "cell_type": "code",
   "execution_count": 23,
   "metadata": {},
   "outputs": [
    {
     "data": {
      "image/png": "[encoded data removed]",
      "text/plain": [
       "<matplotlib.figure.Figure at 0x7fcce5432b70>"
      ]
     },
     "metadata": {},
     "output_type": "display_data"
    }
   ],
   "source": [
    "fig5 = plt.figure(figsize=(10, 7.5))\n",
    "ax = plt.axes(projection=ccrs.PlateCarree(central_longitude=180.0))\n",
    "ax.coastlines(linewidth=1.2, color=[0.6,0.6,0.6], linestyle='-')\n",
    "\n",
    "ci=-0.00003; cf=0.000071; cint=0.00001\n",
    "cs1 = plt.contourf(tt.lon,tt.lat,Q_orig_clim[5,10],np.arange(ci,cf,cint),transform=ccrs.PlateCarree(),cmap='Spectral_r',extend='both')\n",
    "\n",
    "#plt.title('NCEP-NCAR '+strm+' climatological Q @ '+str1+'hPa',fontsize=15)\n",
    "ax.set_xticks([-120, -60 ,0, 60, 120])\n",
    "ax.set_yticks([-90,-60, -30, 0, 30, 60, 90])\n",
    "ax.tick_params(labelsize=12)\n",
    "lon_formatter = LongitudeFormatter(zero_direction_label=True)\n",
    "lat_formatter = LatitudeFormatter()\n",
    "ax.xaxis.set_major_formatter(lon_formatter)\n",
    "ax.yaxis.set_major_formatter(lat_formatter)\n",
    "\n",
    "cb = plt.colorbar(cs1, orientation='vertical', shrink = 0.5)\n",
    "cb.set_label(r\"(K/s)\", size=14)\n",
    "cb.ax.tick_params(labelsize=14)"
   ]
  },
  {
   "cell_type": "code",
   "execution_count": 14,
   "metadata": {},
   "outputs": [
    {
     "data": {
      "text/plain": [
       "<xarray.DataArray 'P' (P: 17)>\n",
       "array([  10,   20,   30,   50,   70,  100,  150,  200,  250,  300,  400,  500,\n",
       "        600,  700,  850,  925, 1000], dtype=int32)\n",
       "Coordinates:\n",
       "  * P        (P) int32 10 20 30 50 70 100 150 200 250 300 400 500 600 700 ...\n",
       "Attributes:\n",
       "    long_name:  Pressure\n",
       "    gridtype:   0\n",
       "    units:      mb"
      ]
     },
     "execution_count": 14,
     "metadata": {},
     "output_type": "execute_result"
    }
   ],
   "source": [
    "P"
   ]
  },
  {
   "cell_type": "code",
   "execution_count": null,
   "metadata": {},
   "outputs": [],
   "source": []
  }
 ],
 "metadata": {
  "kernelspec": {
   "display_name": "Python 3 (ipykernel)",
   "language": "python",
   "name": "python3"
  },
  "language_info": {
   "codemirror_mode": {
    "name": "ipython",
    "version": 3
   },
   "file_extension": ".py",
   "mimetype": "text/x-python",
   "name": "python",
   "nbconvert_exporter": "python",
   "pygments_lexer": "ipython3",
   "version": "3.9.13"
  }
 },
 "nbformat": 4,
 "nbformat_minor": 4
}
