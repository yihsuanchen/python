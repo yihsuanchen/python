{
 "cells": [
  {
   "cell_type": "markdown",
   "id": "f8215360-6682-4e59-870f-ddb8b32edd5b",
   "metadata": {},
   "source": [
    "# Notes - Plotly\n",
    "\n",
    "**References**\n",
    "\n",
    "- Plotly\n",
    "  - https://plotly.com/python/\n",
    "- Visualizations of climate and weather data\n",
    "  - Interactive climate data visualizations with Python & Plotly, https://towardsdatascience.com/interactive-climate-data-visualizations-with-python-plotly-de0472490b09\n",
    "  - Interactive Weather Data Visualizations with Plotly, https://towardsdatascience.com/interactive-weather-data-visualizations-with-plotly-d304fe87b57f\n",
    "  - Climate change visualization with Plotly, https://medium.com/analytics-vidhya/climate-change-visualization-with-plotly-99905ae8d3bf\n"
   ]
  },
  {
   "cell_type": "code",
   "execution_count": null,
   "id": "be33ca84-db83-4216-b494-c43b2be8db79",
   "metadata": {},
   "outputs": [],
   "source": []
  }
 ],
 "metadata": {
  "kernelspec": {
   "display_name": "Python 3 (ipykernel)",
   "language": "python",
   "name": "python3"
  },
  "language_info": {
   "codemirror_mode": {
    "name": "ipython",
    "version": 3
   },
   "file_extension": ".py",
   "mimetype": "text/x-python",
   "name": "python",
   "nbconvert_exporter": "python",
   "pygments_lexer": "ipython3",
   "version": "3.9.12"
  }
 },
 "nbformat": 4,
 "nbformat_minor": 5
}
